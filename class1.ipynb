{
 "cells": [
  {
   "cell_type": "markdown",
   "id": "203714ed-156d-4180-9a72-2cc66dc46b26",
   "metadata": {},
   "source": [
    "Variables And Data Types"
   ]
  },
  {
   "cell_type": "code",
   "execution_count": 5,
   "id": "739aa316-7d5a-428c-ae7e-e76e0175f19b",
   "metadata": {},
   "outputs": [
    {
     "data": {
      "text/plain": [
       "str"
      ]
     },
     "execution_count": 5,
     "metadata": {},
     "output_type": "execute_result"
    }
   ],
   "source": [
    "a = ' Hello World'\n",
    "type(a)\n"
   ]
  },
  {
   "cell_type": "code",
   "execution_count": 6,
   "id": "6eaea212-64db-44fc-861c-a74db71fae54",
   "metadata": {},
   "outputs": [
    {
     "data": {
      "text/plain": [
       "int"
      ]
     },
     "execution_count": 6,
     "metadata": {},
     "output_type": "execute_result"
    }
   ],
   "source": [
    "b = 2\n",
    "type(b)"
   ]
  },
  {
   "cell_type": "code",
   "execution_count": 7,
   "id": "ba9eb35f-7e89-4cb8-a29b-7d4d50fef10f",
   "metadata": {},
   "outputs": [
    {
     "data": {
      "text/plain": [
       "float"
      ]
     },
     "execution_count": 7,
     "metadata": {},
     "output_type": "execute_result"
    }
   ],
   "source": [
    "c = 3.0\n",
    "type(c)"
   ]
  },
  {
   "cell_type": "code",
   "execution_count": 8,
   "id": "8418d8dc-92bd-4ae8-8829-0c49c95d6ec9",
   "metadata": {},
   "outputs": [
    {
     "data": {
      "text/plain": [
       "str"
      ]
     },
     "execution_count": 8,
     "metadata": {},
     "output_type": "execute_result"
    }
   ],
   "source": [
    "d = '10'\n",
    "type(d)"
   ]
  },
  {
   "cell_type": "markdown",
   "id": "84df2578-b456-48f1-9cb8-43935656ba54",
   "metadata": {},
   "source": [
    "TypeCasting"
   ]
  },
  {
   "cell_type": "code",
   "execution_count": 9,
   "id": "2bf58c63-b734-4c69-872b-f78f183e0a7c",
   "metadata": {},
   "outputs": [
    {
     "ename": "ValueError",
     "evalue": "could not convert string to float: ' Hello World'",
     "output_type": "error",
     "traceback": [
      "\u001b[1;31m---------------------------------------------------------------------------\u001b[0m",
      "\u001b[1;31mValueError\u001b[0m                                Traceback (most recent call last)",
      "Cell \u001b[1;32mIn[9], line 1\u001b[0m\n\u001b[1;32m----> 1\u001b[0m \u001b[38;5;28mfloat\u001b[39m (a)\n",
      "\u001b[1;31mValueError\u001b[0m: could not convert string to float: ' Hello World'"
     ]
    }
   ],
   "source": [
    "float (a)"
   ]
  },
  {
   "cell_type": "raw",
   "id": "3bec0760-0bdc-411e-b4fe-f3531430f9e7",
   "metadata": {},
   "source": [
    "float(d)"
   ]
  },
  {
   "cell_type": "code",
   "execution_count": 11,
   "id": "7a6b6106-052e-4dd8-aa26-dcfd02a23777",
   "metadata": {},
   "outputs": [
    {
     "data": {
      "text/plain": [
       "2.0"
      ]
     },
     "execution_count": 11,
     "metadata": {},
     "output_type": "execute_result"
    }
   ],
   "source": [
    "float(b)"
   ]
  },
  {
   "cell_type": "code",
   "execution_count": 12,
   "id": "3aadca2a-8229-4bfa-94c1-e03dd4b144f4",
   "metadata": {},
   "outputs": [
    {
     "data": {
      "text/plain": [
       "'2'"
      ]
     },
     "execution_count": 12,
     "metadata": {},
     "output_type": "execute_result"
    }
   ],
   "source": [
    "str(b)"
   ]
  },
  {
   "cell_type": "markdown",
   "id": "092314c0-e097-46c5-8e4b-396377aa2d24",
   "metadata": {},
   "source": [
    "BOOLEAN"
   ]
  },
  {
   "cell_type": "code",
   "execution_count": 7,
   "id": "12408f15-2075-4498-ab36-ef1825b58ea2",
   "metadata": {},
   "outputs": [
    {
     "data": {
      "text/plain": [
       "False"
      ]
     },
     "execution_count": 7,
     "metadata": {},
     "output_type": "execute_result"
    }
   ],
   "source": [
    "3>4"
   ]
  },
  {
   "cell_type": "code",
   "execution_count": 8,
   "id": "06d6b345-2208-4a59-bbdd-82937cf0d272",
   "metadata": {},
   "outputs": [
    {
     "data": {
      "text/plain": [
       "True"
      ]
     },
     "execution_count": 8,
     "metadata": {},
     "output_type": "execute_result"
    }
   ],
   "source": [
    "3<4>1"
   ]
  },
  {
   "cell_type": "code",
   "execution_count": 9,
   "id": "a2a573f0-6658-412d-b1e9-04cdf6371888",
   "metadata": {},
   "outputs": [
    {
     "data": {
      "text/plain": [
       "False"
      ]
     },
     "execution_count": 9,
     "metadata": {},
     "output_type": "execute_result"
    }
   ],
   "source": [
    "4>1 and 3<1"
   ]
  },
  {
   "cell_type": "code",
   "execution_count": 10,
   "id": "7b3c9730-5017-406d-a4a1-071198b4cd2b",
   "metadata": {},
   "outputs": [
    {
     "data": {
      "text/plain": [
       "True"
      ]
     },
     "execution_count": 10,
     "metadata": {},
     "output_type": "execute_result"
    }
   ],
   "source": [
    "5>6 or 7<10"
   ]
  },
  {
   "cell_type": "markdown",
   "id": "897fa642-761c-499d-a070-3404bf570325",
   "metadata": {},
   "source": [
    "input()/print()"
   ]
  },
  {
   "cell_type": "code",
   "execution_count": 15,
   "id": "f6c23f97-de0e-4881-9111-0cdcde3d687b",
   "metadata": {},
   "outputs": [
    {
     "name": "stdin",
     "output_type": "stream",
     "text": [
      "please enter your name matri\n"
     ]
    },
    {
     "name": "stdout",
     "output_type": "stream",
     "text": [
      "your name is matri\n"
     ]
    }
   ],
   "source": [
    "user_name = input ('please enter your name')\n",
    "print (f'your name is {user_name}')"
   ]
  },
  {
   "cell_type": "code",
   "execution_count": 17,
   "id": "054ecd86-b1a6-428d-86f4-3416dd19d92b",
   "metadata": {},
   "outputs": [
    {
     "name": "stdout",
     "output_type": "stream",
     "text": [
      "my name is matri\n"
     ]
    }
   ],
   "source": [
    "print('my name is {}'.format(user_name))"
   ]
  },
  {
   "cell_type": "markdown",
   "id": "eba48c96-543d-4bdc-b33c-49b4a2c958ec",
   "metadata": {},
   "source": [
    "Variable Naming"
   ]
  },
  {
   "cell_type": "code",
   "execution_count": null,
   "id": "d33e0cf5-0d33-43f1-94c4-598eff4c7fdf",
   "metadata": {},
   "outputs": [],
   "source": [
    "# how to name variables in python.\n",
    "# e.g name, _name,name_name,_userNAME,\n",
    "# when naming variables in python, always make sure that the variable\n",
    "# explains the object stored in it.\n",
    "# remember not to use some reserved names in python like; sum,or, not, True,False,\n",
    "# is, and, null, etc."
   ]
  },
  {
   "cell_type": "code",
   "execution_count": 2,
   "id": "d5e67c71-1aec-4135-a5f3-cf985493bb65",
   "metadata": {},
   "outputs": [
    {
     "name": "stdin",
     "output_type": "stream",
     "text": [
      "Enter your name:.... matri\n",
      "Enter your height:.... 5.6\n",
      "Enter your weight:..... 65\n"
     ]
    },
    {
     "name": "stdout",
     "output_type": "stream",
     "text": [
      "matri, your body mass index (bmi) is 11.607142857142858\n"
     ]
    }
   ],
   "source": [
    "# write a program to calculate bmi\n",
    "_username=input(\"Enter your name:....\")\n",
    "_height=float(input('Enter your height:....'))\n",
    "_weight=float(input('Enter your weight:.....'))\n",
    "bmi=_weight/_height\n",
    "print(f'{_username}, your body mass index (bmi) is {bmi}')"
   ]
  },
  {
   "cell_type": "markdown",
   "id": "b4c9cd06-c4eb-4052-a9b8-3051583587d3",
   "metadata": {},
   "source": [
    "Conditional Statement"
   ]
  },
  {
   "cell_type": "code",
   "execution_count": null,
   "id": "6b0dd954-114a-47fb-a74e-3ec7b0a4f719",
   "metadata": {},
   "outputs": [],
   "source": [
    "# Conditional Statement : if, else and elif"
   ]
  },
  {
   "cell_type": "code",
   "execution_count": 7,
   "id": "f5e58696-b1bd-4a80-90ae-3c25527aa0ad",
   "metadata": {},
   "outputs": [
    {
     "name": "stdin",
     "output_type": "stream",
     "text": [
      "Enter the currency:..... pounds\n",
      "Enter the amount:..... 1000\n",
      "Enter your exchangeRATE:.... 1800\n"
     ]
    },
    {
     "name": "stdout",
     "output_type": "stream",
     "text": [
      "please enter the correct currency\n"
     ]
    }
   ],
   "source": [
    "# write a program for bureau de change to convert currencies\n",
    "_currency=input('Enter the currency:.....')\n",
    "_amt=float(input('Enter the amount:.....'))\n",
    "_exchangeRATE=float(input('Enter your exchangeRATE:....'))\n",
    "if _currency =='$':\n",
    "    _naira=_amt*_exchangeRATE\n",
    "    print (f'{_amt} dollars is equal to {_naira} naira')\n",
    "else:\n",
    "    print ('please enter the correct currency')\n"
   ]
  },
  {
   "cell_type": "code",
   "execution_count": null,
   "id": "e2799055-b3e6-4153-a0c7-7fd7d77292df",
   "metadata": {},
   "outputs": [],
   "source": [
    "# your cousin runs a school,he approached you to assist him\n",
    "# develop a program to help him complete the grade of the\n",
    "# pupils in his school.write a program to solve the above issue"
   ]
  },
  {
   "cell_type": "code",
   "execution_count": 1,
   "id": "cc6892ec-4990-4e98-8f38-f4ddbb4b97e2",
   "metadata": {},
   "outputs": [
    {
     "name": "stdin",
     "output_type": "stream",
     "text": [
      "Enter name of student:.... Matri\n",
      "Enter score:..... 95\n"
     ]
    },
    {
     "name": "stdout",
     "output_type": "stream",
     "text": [
      "Matri grade is A\n"
     ]
    }
   ],
   "source": [
    "student_name=input('Enter name of student:....')\n",
    "student_score=float(input('Enter score:.....'))\n",
    "if student_score >=70:\n",
    "    print(f'{student_name} grade is A')\n",
    "elif student_score >=60 and student_score <=69:\n",
    "    print(f' {student_name} grade is B')\n",
    "elif student_score>=50 and student_score <=59:\n",
    "    print(f'{student_name} grade is C') \n",
    "elif student_score >= 45 and student_score <=49:\n",
    "    print (f'{student_name} grade is D')\n",
    "elif student_score >= 40 and student_score <=44:\n",
    "    print (f'{student_name} grade is E')\n",
    "else:\n",
    "    print(f'{student_name} grade is F')\n",
    "\n",
    "\n"
   ]
  },
  {
   "cell_type": "code",
   "execution_count": null,
   "id": "5dcde352-4358-471e-ab90-1d5421f5655f",
   "metadata": {},
   "outputs": [],
   "source": []
  },
  {
   "cell_type": "code",
   "execution_count": 6,
   "id": "3483368e-5ee8-4d79-8ea5-8f7e09607b19",
   "metadata": {},
   "outputs": [
    {
     "name": "stdin",
     "output_type": "stream",
     "text": [
      "Enter the currency:..... euro\n",
      "Enter the amount:..... 1000\n",
      "Enter your exchangeRATE:.... 1550\n"
     ]
    },
    {
     "name": "stdout",
     "output_type": "stream",
     "text": [
      "1000.0 dollars is equal to 1550000.0 naira\n"
     ]
    }
   ],
   "source": [
    "\n",
    "_currency=input('Enter the currency:.....')\n",
    "_amt=float(input('Enter the amount:.....'))\n",
    "_exchangeRATE=float(input('Enter your exchangeRATE:....'))\n",
    "if _currency !='$':\n",
    "    _naira=_amt*_exchangeRATE\n",
    "    print (f'{_amt} dollars is equal to {_naira} naira')\n",
    "else:\n",
    "    print ('please enter currency other than $' )\n"
   ]
  },
  {
   "cell_type": "code",
   "execution_count": null,
   "id": "9dec4c00-6dd5-4fe2-892a-46f444991236",
   "metadata": {},
   "outputs": [],
   "source": [
    "# your cousin runs a school,he approached you to assist him\n",
    "# develop a program to help him complete the grade of the\n",
    "# pupils in his school.write a program to solve the above issue"
   ]
  },
  {
   "cell_type": "code",
   "execution_count": 1,
   "id": "52bcc2ad-1a54-4029-a648-f57fcbd55ccc",
   "metadata": {},
   "outputs": [
    {
     "name": "stdin",
     "output_type": "stream",
     "text": [
      "Enter name of student:.... Matri\n",
      "Enter score:..... 95\n"
     ]
    },
    {
     "name": "stdout",
     "output_type": "stream",
     "text": [
      "Matri grade is A\n"
     ]
    }
   ],
   "source": [
    "student_name=input('Enter name of student:....')\n",
    "student_score=float(input('Enter score:.....'))\n",
    "if student_score >=70:\n",
    "    print(f'{student_name} grade is A')\n",
    "elif student_score >=60 and student_score <=69:\n",
    "    print(f' {student_name} grade is B')\n",
    "elif student_score>=50 and student_score <=59:\n",
    "    print(f'{student_name} grade is C') \n",
    "elif student_score >= 45 and student_score <=49:\n",
    "    print (f'{student_name} grade is D')\n",
    "elif student_score >= 40 and student_score <=44:\n",
    "    print (f'{student_name} grade is E')\n",
    "else:\n",
    "    print(f'{student_name} grade is F')\n",
    "\n",
    "\n"
   ]
  },
  {
   "cell_type": "code",
   "execution_count": 15,
   "id": "7596c000-de63-4c02-aeb4-44935ff12756",
   "metadata": {},
   "outputs": [],
   "source": [
    "# how to check if a word is a palaendrum"
   ]
  },
  {
   "cell_type": "code",
   "execution_count": 16,
   "id": "fa8a221f-6cb5-482f-9ae4-d2e59aea6593",
   "metadata": {},
   "outputs": [],
   "source": [
    "d= 'Sam'\n",
    "rev=d[::-1]"
   ]
  },
  {
   "cell_type": "code",
   "execution_count": null,
   "id": "c0be42ee-1ff0-468d-bb02-4597a6aea0f6",
   "metadata": {},
   "outputs": [],
   "source": [
    "if d == rev:\n",
    "    print(f'{d} is a palaendrum')\n",
    "else:"
   ]
  },
  {
   "cell_type": "code",
   "execution_count": null,
   "id": "bca79451-1292-4a6c-8b50-53c7d60c8178",
   "metadata": {},
   "outputs": [],
   "source": []
  },
  {
   "cell_type": "markdown",
   "id": "17e95378-e97a-4251-8fa1-b4459c12141b",
   "metadata": {},
   "source": [
    "STRINGS"
   ]
  },
  {
   "cell_type": "markdown",
   "id": "12edf6e5-a1b5-43d8-9744-473d67171df3",
   "metadata": {},
   "source": [
    "String is a sequence of characters, enclosed in an inverted comma."
   ]
  },
  {
   "cell_type": "code",
   "execution_count": null,
   "id": "402fbf55-49d7-4363-bc6c-3347e0d43a65",
   "metadata": {},
   "outputs": [],
   "source": [
    "fruits"
   ]
  },
  {
   "cell_type": "markdown",
   "id": "b1f9b4d0-9fdd-497d-9b9a-933761ac9bdf",
   "metadata": {},
   "source": [
    "DATA STRUCTURE"
   ]
  },
  {
   "cell_type": "code",
   "execution_count": null,
   "id": "a6566c6b-5084-49e8-a6c1-620cae09e714",
   "metadata": {},
   "outputs": [],
   "source": [
    "# List: is a set of items separated by comma and enclosed in a square bracket \n",
    "# e.g List = [1,2,3,['peter','mary','john',],True,False]\n",
    "# Attributes of List\n",
    "# A list item is subscriptable\n",
    "# A list item is mutable\n",
    "# A List item can be duplicated\n",
    "# A List contains different data types\n",
    "# A List can contain another list\n",
    "\n",
    "# Operation on a List\n",
    "# append: append is used to add item to a list,append carries one argument.\n",
    "# insert: insert is used to add item to a particular position in a list.insert carries two argument.\n",
    "# pop:pop is used to remove an item from a list.so u indicate the position of the item you want to remove.\n",
    "# delete: delete is used to remove an item from a list.\n",
    "# extend: extend is used to multiple items to a list.it allows one argument so to add multiple items you\n",
    "# put the multiple items in a list and assign to a variable."
   ]
  },
  {
   "cell_type": "code",
   "execution_count": 5,
   "id": "4353f583-6fc6-4bdb-b3f1-a4ede5648b84",
   "metadata": {},
   "outputs": [],
   "source": [
    "a = [1,2,3,['peter','mary','john'],True,False]"
   ]
  },
  {
   "cell_type": "code",
   "execution_count": 6,
   "id": "e340e651-1a8f-4a79-bfe1-e9d2af513181",
   "metadata": {},
   "outputs": [],
   "source": [
    "a.append(0.1)"
   ]
  },
  {
   "cell_type": "code",
   "execution_count": 7,
   "id": "1f73b7d8-4f41-4df4-9a56-9f23db203d5b",
   "metadata": {},
   "outputs": [
    {
     "data": {
      "text/plain": [
       "[1, 2, 3, ['peter', 'mary', 'john'], True, False, 0.1]"
      ]
     },
     "execution_count": 7,
     "metadata": {},
     "output_type": "execute_result"
    }
   ],
   "source": [
    "a"
   ]
  },
  {
   "cell_type": "code",
   "execution_count": 8,
   "id": "7563d866-c444-4777-8ccd-e0f9290e7089",
   "metadata": {},
   "outputs": [],
   "source": [
    "a.insert(0,10)"
   ]
  },
  {
   "cell_type": "code",
   "execution_count": 9,
   "id": "429b2935-3549-48ce-bdc5-c8733e521f54",
   "metadata": {},
   "outputs": [
    {
     "data": {
      "text/plain": [
       "[10, 1, 2, 3, ['peter', 'mary', 'john'], True, False, 0.1]"
      ]
     },
     "execution_count": 9,
     "metadata": {},
     "output_type": "execute_result"
    }
   ],
   "source": [
    "a"
   ]
  },
  {
   "cell_type": "code",
   "execution_count": 11,
   "id": "99d3fb49-c8b9-4b00-9cec-0e1e18823e77",
   "metadata": {},
   "outputs": [],
   "source": [
    "l = [6,3,5,4]"
   ]
  },
  {
   "cell_type": "code",
   "execution_count": 12,
   "id": "ef71dd92-e4d9-47eb-907c-6c483a37b6ca",
   "metadata": {},
   "outputs": [],
   "source": [
    "a.extend(l)"
   ]
  },
  {
   "cell_type": "code",
   "execution_count": 13,
   "id": "97ea65e6-81b2-4b42-a4c3-ad0d351e04f6",
   "metadata": {},
   "outputs": [
    {
     "data": {
      "text/plain": [
       "[10, 1, 2, 3, ['peter', 'mary', 'john'], True, False, 0.1, 6, 3, 5, 4]"
      ]
     },
     "execution_count": 13,
     "metadata": {},
     "output_type": "execute_result"
    }
   ],
   "source": [
    "a"
   ]
  },
  {
   "cell_type": "code",
   "execution_count": 14,
   "id": "7d9d500f-48c6-422e-9b9c-79e681235012",
   "metadata": {},
   "outputs": [
    {
     "data": {
      "text/plain": [
       "10"
      ]
     },
     "execution_count": 14,
     "metadata": {},
     "output_type": "execute_result"
    }
   ],
   "source": [
    "a.pop(0)"
   ]
  },
  {
   "cell_type": "code",
   "execution_count": 15,
   "id": "6dbc05b1-d142-4358-8c08-05fe8443e507",
   "metadata": {},
   "outputs": [],
   "source": [
    "del a[3]"
   ]
  },
  {
   "cell_type": "code",
   "execution_count": 16,
   "id": "100902b6-9661-48f8-b588-a7d17bc29cca",
   "metadata": {},
   "outputs": [
    {
     "data": {
      "text/plain": [
       "[1, 2, 3, True, False, 0.1, 6, 3, 5, 4]"
      ]
     },
     "execution_count": 16,
     "metadata": {},
     "output_type": "execute_result"
    }
   ],
   "source": [
    "a"
   ]
  },
  {
   "cell_type": "code",
   "execution_count": null,
   "id": "416d3774-d444-4e9f-8414-77124cd6b080",
   "metadata": {},
   "outputs": [],
   "source": [
    "# list index"
   ]
  },
  {
   "cell_type": "code",
   "execution_count": 18,
   "id": "731d324b-1092-4269-a118-7ef2642a2d37",
   "metadata": {},
   "outputs": [],
   "source": [
    "s = ['peter','mary','john']"
   ]
  },
  {
   "cell_type": "code",
   "execution_count": 19,
   "id": "6ba114d2-e81e-497e-a5c4-79dc72c25ca6",
   "metadata": {},
   "outputs": [],
   "source": [
    "a.append (s)"
   ]
  },
  {
   "cell_type": "code",
   "execution_count": 20,
   "id": "33f37f82-888e-490c-9b6b-375a0daf4d31",
   "metadata": {},
   "outputs": [],
   "source": [
    "a.insert(3,s)"
   ]
  },
  {
   "cell_type": "code",
   "execution_count": 21,
   "id": "fc12c6c2-3add-4042-bc57-8ff299aaab9e",
   "metadata": {},
   "outputs": [
    {
     "name": "stdout",
     "output_type": "stream",
     "text": [
      "[1, 2, 3, ['peter', 'mary', 'john'], True, False, 0.1, 6, 3, 5, 4, ['peter', 'mary', 'john']]\n"
     ]
    }
   ],
   "source": [
    "print(a)"
   ]
  },
  {
   "cell_type": "code",
   "execution_count": 22,
   "id": "b03f451e-7556-4798-91e8-9ebcdfa53942",
   "metadata": {},
   "outputs": [
    {
     "data": {
      "text/plain": [
       "['peter', 'mary', 'john']"
      ]
     },
     "execution_count": 22,
     "metadata": {},
     "output_type": "execute_result"
    }
   ],
   "source": [
    "a.pop(11)"
   ]
  },
  {
   "cell_type": "code",
   "execution_count": 23,
   "id": "da0d98bb-1506-42a5-81f4-4be1d35101eb",
   "metadata": {},
   "outputs": [
    {
     "name": "stdout",
     "output_type": "stream",
     "text": [
      "[1, 2, 3, ['peter', 'mary', 'john'], True, False, 0.1, 6, 3, 5, 4]\n"
     ]
    }
   ],
   "source": [
    "print(a)"
   ]
  },
  {
   "cell_type": "code",
   "execution_count": 24,
   "id": "0f18b84e-6e39-4f4f-9dc7-7a4399781d3c",
   "metadata": {},
   "outputs": [
    {
     "data": {
      "text/plain": [
       "'peter'"
      ]
     },
     "execution_count": 24,
     "metadata": {},
     "output_type": "execute_result"
    }
   ],
   "source": [
    "a[3][0]"
   ]
  },
  {
   "cell_type": "code",
   "execution_count": 25,
   "id": "9f087755-711a-4dd8-9871-a05e71b86b32",
   "metadata": {},
   "outputs": [
    {
     "name": "stdout",
     "output_type": "stream",
     "text": [
      "[1, 2, 3, ['peter', 'mary', 'john'], True, False, 0.1, 6, 3, 5, 4]\n"
     ]
    }
   ],
   "source": [
    "print(a)"
   ]
  },
  {
   "cell_type": "code",
   "execution_count": null,
   "id": "60cb22c2-7ec3-47da-a358-3d99f9089085",
   "metadata": {},
   "outputs": [],
   "source": [
    "# Tuple\n",
    "#Tuple is a set of items separated by comma and enclosed in a bracket\n",
    "#Attributes\n",
    "#A tuple item is subscriptable\n",
    "#A tuple item is mutable (changable)\n",
    "# A tuple item can be duplicated\n",
    "# Tuple can contain different data types"
   ]
  },
  {
   "cell_type": "code",
   "execution_count": 27,
   "id": "9e55cbed-571f-4cb8-aeeb-72709b7ad599",
   "metadata": {},
   "outputs": [],
   "source": [
    "t= (1,2,3,4,5)\n",
    "t= 1,2,3,4,5"
   ]
  },
  {
   "cell_type": "code",
   "execution_count": 28,
   "id": "699e4b8f-2c9b-4dfb-8c44-34005e8a9e3e",
   "metadata": {},
   "outputs": [
    {
     "data": {
      "text/plain": [
       "2"
      ]
     },
     "execution_count": 28,
     "metadata": {},
     "output_type": "execute_result"
    }
   ],
   "source": [
    "t[1]"
   ]
  },
  {
   "cell_type": "code",
   "execution_count": null,
   "id": "d89eff2f-533a-47f2-9f74-cf1723bae7e2",
   "metadata": {},
   "outputs": [],
   "source": [
    "#set\n",
    "#set is a set of items separated by comma and enclosed in a curly brace\n",
    "#Attributes\n",
    "# A set item is not subscriptable\n",
    "# A set operation does not allow duplicated items\n",
    "# A set item is not mutable"
   ]
  },
  {
   "cell_type": "code",
   "execution_count": 29,
   "id": "1cf4dc0c-4ef2-4e86-9360-5a5ee8676ed7",
   "metadata": {},
   "outputs": [],
   "source": [
    "town1 = {'Abba','Lagos','PH','Jos'}\n",
    "\n",
    "\n"
   ]
  },
  {
   "cell_type": "code",
   "execution_count": 30,
   "id": "ba75d53f-e6a6-4498-8c9b-e70fdd2a77db",
   "metadata": {},
   "outputs": [],
   "source": [
    "town2 = {'Lokoja','Abuja','PH','Jos'}"
   ]
  },
  {
   "cell_type": "code",
   "execution_count": 32,
   "id": "423fbd9b-9fa0-454d-9756-af51f7042a87",
   "metadata": {},
   "outputs": [],
   "source": [
    "#Intersection\n"
   ]
  },
  {
   "cell_type": "code",
   "execution_count": 33,
   "id": "9d97950d-77a1-4d74-8f64-911f90823bc4",
   "metadata": {},
   "outputs": [
    {
     "data": {
      "text/plain": [
       "{'Jos', 'PH'}"
      ]
     },
     "execution_count": 33,
     "metadata": {},
     "output_type": "execute_result"
    }
   ],
   "source": [
    "town1.intersection(town2)"
   ]
  },
  {
   "cell_type": "code",
   "execution_count": 34,
   "id": "91822c49-d702-429e-9dc4-86e2b01cf7e1",
   "metadata": {},
   "outputs": [],
   "source": [
    "#Union"
   ]
  },
  {
   "cell_type": "code",
   "execution_count": 35,
   "id": "9ec72e1c-0e6d-4bb0-9cbc-3626890473e6",
   "metadata": {},
   "outputs": [
    {
     "data": {
      "text/plain": [
       "{'Abba', 'Abuja', 'Jos', 'Lagos', 'Lokoja', 'PH'}"
      ]
     },
     "execution_count": 35,
     "metadata": {},
     "output_type": "execute_result"
    }
   ],
   "source": [
    "town1.union(town2)"
   ]
  },
  {
   "cell_type": "code",
   "execution_count": 39,
   "id": "532b865f-3fc3-4ddd-b98f-2bacd6dd90bf",
   "metadata": {},
   "outputs": [],
   "source": [
    "#Dictionary\n",
    "# Dictionary is a pair of set of items separated by comma and enclosed in curly brace.\n",
    "# The items are in key and values.\n",
    "#In the example below the key is 'name''age' and the value is 'peter' 'age'\n"
   ]
  },
  {
   "cell_type": "code",
   "execution_count": 36,
   "id": "0d4cb540-f710-451e-9b07-c72b2cf20ca7",
   "metadata": {},
   "outputs": [],
   "source": [
    "dict = {'name': 'peter',\n",
    "       'age': 20}"
   ]
  },
  {
   "cell_type": "code",
   "execution_count": 37,
   "id": "ff357cfe-8846-4502-866f-f0fbc1863cb9",
   "metadata": {},
   "outputs": [
    {
     "data": {
      "text/plain": [
       "'peter'"
      ]
     },
     "execution_count": 37,
     "metadata": {},
     "output_type": "execute_result"
    }
   ],
   "source": [
    "dict['name']"
   ]
  },
  {
   "cell_type": "code",
   "execution_count": 38,
   "id": "8b930aa5-dc55-4982-b11e-b65e5164c453",
   "metadata": {},
   "outputs": [
    {
     "data": {
      "text/plain": [
       "20"
      ]
     },
     "execution_count": 38,
     "metadata": {},
     "output_type": "execute_result"
    }
   ],
   "source": [
    "dict['age']"
   ]
  },
  {
   "cell_type": "code",
   "execution_count": 41,
   "id": "e9648a27-93b6-4e40-a487-9f209c0b039b",
   "metadata": {},
   "outputs": [],
   "source": [
    "dictx = {'name':['peter','mary','john'],\n",
    "         'age' :[ 20,30,35]}"
   ]
  },
  {
   "cell_type": "code",
   "execution_count": 42,
   "id": "86939978-6fc0-43ca-bd0e-9373d712e537",
   "metadata": {},
   "outputs": [
    {
     "data": {
      "text/plain": [
       "'mary'"
      ]
     },
     "execution_count": 42,
     "metadata": {},
     "output_type": "execute_result"
    }
   ],
   "source": [
    "dictx['name'][1]"
   ]
  },
  {
   "cell_type": "markdown",
   "id": "ec0127e3-fd03-4266-b2c3-17049acbbb49",
   "metadata": {},
   "source": [
    "loop\n",
    "loop is the process of doing a particular thing repeatedly"
   ]
  },
  {
   "cell_type": "code",
   "execution_count": null,
   "id": "28727a77-726e-4995-904d-5aa632efaa55",
   "metadata": {},
   "outputs": [],
   "source": [
    "# There are two types of loop\n",
    "# 1. for loop\n",
    "# 2. while loop"
   ]
  },
  {
   "cell_type": "markdown",
   "id": "ef1656db-2d10-4f32-9a6c-549df7ecf1ea",
   "metadata": {},
   "source": [
    "for loop"
   ]
  },
  {
   "cell_type": "code",
   "execution_count": null,
   "id": "9c3eab6b-4416-45aa-8367-803ef663727c",
   "metadata": {},
   "outputs": [],
   "source": [
    "# syntax of for loop: for i in x:"
   ]
  },
  {
   "cell_type": "code",
   "execution_count": 45,
   "id": "deadc7a7-abe2-4fc2-bcfa-04b492b36acd",
   "metadata": {},
   "outputs": [
    {
     "name": "stdout",
     "output_type": "stream",
     "text": [
      "1\n",
      "3\n",
      "6\n",
      "10\n",
      "15\n"
     ]
    }
   ],
   "source": [
    "# write a program to add the items of the list x\n",
    "x = [1,2,3,4,5]\n",
    "s=0\n",
    "for i in x:\n",
    "    s=s+i\n",
    "    print(s)"
   ]
  },
  {
   "cell_type": "code",
   "execution_count": 44,
   "id": "214ee05d-8121-49ad-8e56-17b7eb8d1cfa",
   "metadata": {},
   "outputs": [
    {
     "name": "stdout",
     "output_type": "stream",
     "text": [
      "5\n"
     ]
    }
   ],
   "source": [
    "# write a program to find the length of a list x\n",
    "c=0\n",
    "for i in x:\n",
    "    c=c+1\n",
    "print(c)"
   ]
  },
  {
   "cell_type": "code",
   "execution_count": 2,
   "id": "33a34867-0f6b-490f-869b-ed695dbf1681",
   "metadata": {},
   "outputs": [
    {
     "name": "stdout",
     "output_type": "stream",
     "text": [
      "5\n"
     ]
    }
   ],
   "source": [
    "x = [1,2,3,4,5]\n",
    "count = 0\n",
    "for i in x:\n",
    "    count= count + 1\n",
    "print(count)"
   ]
  },
  {
   "cell_type": "code",
   "execution_count": null,
   "id": "d9942015-1678-4b1d-bde1-131d5f6444cb",
   "metadata": {},
   "outputs": [],
   "source": [
    "#Range \n",
    "# Characteristics - Start,Stop,Step\n"
   ]
  },
  {
   "cell_type": "code",
   "execution_count": 5,
   "id": "2ec4da26-6662-4733-8ed0-9ec74b0c386c",
   "metadata": {},
   "outputs": [
    {
     "name": "stdout",
     "output_type": "stream",
     "text": [
      "range(0, 10)\n"
     ]
    }
   ],
   "source": [
    "x = range(10)\n",
    "print(x)"
   ]
  },
  {
   "cell_type": "code",
   "execution_count": 7,
   "id": "5384e30b-49be-42c9-8f1b-d3a490c9260d",
   "metadata": {},
   "outputs": [
    {
     "name": "stdout",
     "output_type": "stream",
     "text": [
      "0\n",
      "1\n",
      "2\n",
      "3\n",
      "4\n",
      "5\n",
      "6\n",
      "7\n",
      "8\n",
      "9\n"
     ]
    }
   ],
   "source": [
    "for i in range(10):\n",
    "    print(i)"
   ]
  },
  {
   "cell_type": "code",
   "execution_count": 9,
   "id": "5232842e-214e-4818-bff5-2f5d70c07671",
   "metadata": {},
   "outputs": [
    {
     "name": "stdout",
     "output_type": "stream",
     "text": [
      "2\n",
      "4\n",
      "6\n",
      "8\n"
     ]
    }
   ],
   "source": [
    "for i in range(2,10,2):\n",
    "     print(i)"
   ]
  },
  {
   "cell_type": "code",
   "execution_count": 10,
   "id": "763c568e-e0e0-4e59-9aa3-68353382b349",
   "metadata": {},
   "outputs": [
    {
     "name": "stdout",
     "output_type": "stream",
     "text": [
      "2\n",
      "4\n",
      "6\n",
      "8\n",
      "10\n"
     ]
    }
   ],
   "source": [
    "for i in range(2,10+1,2):\n",
    "    print(i)"
   ]
  },
  {
   "cell_type": "code",
   "execution_count": 12,
   "id": "6560afa2-8a55-4bc2-b651-f58197e75954",
   "metadata": {},
   "outputs": [
    {
     "name": "stdout",
     "output_type": "stream",
     "text": [
      "[11, 6, 6, 6, 11]\n"
     ]
    }
   ],
   "source": [
    "xlist = [9,2,3,4,6]\n",
    "ylist = [2,4,3,2,5]\n",
    "#write a program to add to the items of the two list\n",
    "flist = []\n",
    "for i in range(len(ylist)):\n",
    "    add = xlist[i] + ylist[i]\n",
    "    flist.append(add)\n",
    "print(flist)\n"
   ]
  },
  {
   "cell_type": "code",
   "execution_count": null,
   "id": "d270c9fb-7896-4099-b138-8f4a98865219",
   "metadata": {},
   "outputs": [],
   "source": []
  },
  {
   "cell_type": "code",
   "execution_count": 13,
   "id": "6893fd3c-3b9d-4b6b-a252-9991b4669b4f",
   "metadata": {},
   "outputs": [
    {
     "name": "stdout",
     "output_type": "stream",
     "text": [
      "[11, 6, 6, 6, 11]\n"
     ]
    }
   ],
   "source": [
    "xlist = [9,2,3,4,6]\n",
    "ylist = [2,4,3,2,5]\n",
    "#write a program to add to the items of the two list\n",
    "flist = []\n",
    "for i in range(len(ylist)):\n",
    "    flist.append(xlist[i]+ylist[i])\n",
    "print(flist)\n"
   ]
  },
  {
   "cell_type": "code",
   "execution_count": 17,
   "id": "f2dfa431-e199-4ec4-8e75-0c6f1678b282",
   "metadata": {},
   "outputs": [
    {
     "name": "stdout",
     "output_type": "stream",
     "text": [
      "[3, 7, 5, 2, 1]\n"
     ]
    }
   ],
   "source": [
    "h = [1,3,0,2,1]\n",
    "s = [2,4,5]\n",
    "#write a program to add the items in the two list above, using the h as the range\n",
    "i = [0,0]\n",
    "s.extend(i)\n",
    "m = []\n",
    "for i in range(len(h)):\n",
    "    m.append(h[i]+s[i])\n",
    "print(m)"
   ]
  },
  {
   "cell_type": "code",
   "execution_count": 29,
   "id": "9f669910-d98b-49cf-b8e6-c7681a05dffb",
   "metadata": {},
   "outputs": [],
   "source": [
    "import pandas as pd"
   ]
  },
  {
   "cell_type": "code",
   "execution_count": 30,
   "id": "5cc56d28-e035-4556-ae0f-360b9bdbf85c",
   "metadata": {},
   "outputs": [
    {
     "name": "stdout",
     "output_type": "stream",
     "text": [
      "name\n",
      "age\n",
      "marital status\n",
      "salary\n"
     ]
    }
   ],
   "source": [
    "dicty = {'name':['john','peter','mercy','mary'],\n",
    "        'age': [30,40,35,40],\n",
    "        'marital status' : ['single','married','married','married'],\n",
    "        'salary': [10000,30000,25000,35000]}\n",
    "for i,n in dicty.items():\n",
    "         print(i)"
   ]
  },
  {
   "cell_type": "code",
   "execution_count": 31,
   "id": "f2e5b9ae-e50c-4a02-9e72-85d039e97c4f",
   "metadata": {},
   "outputs": [
    {
     "name": "stdout",
     "output_type": "stream",
     "text": [
      "['john', 'peter', 'mercy', 'mary']\n",
      "[30, 40, 35, 40]\n",
      "['single', 'married', 'married', 'married']\n",
      "[10000, 30000, 25000, 35000]\n"
     ]
    }
   ],
   "source": [
    "for i,n in dicty.items():\n",
    "    print(n)"
   ]
  },
  {
   "cell_type": "code",
   "execution_count": 32,
   "id": "0360ba94-2aeb-4031-884d-f46652f3bf4c",
   "metadata": {},
   "outputs": [
    {
     "data": {
      "text/html": [
       "<div>\n",
       "<style scoped>\n",
       "    .dataframe tbody tr th:only-of-type {\n",
       "        vertical-align: middle;\n",
       "    }\n",
       "\n",
       "    .dataframe tbody tr th {\n",
       "        vertical-align: top;\n",
       "    }\n",
       "\n",
       "    .dataframe thead th {\n",
       "        text-align: right;\n",
       "    }\n",
       "</style>\n",
       "<table border=\"1\" class=\"dataframe\">\n",
       "  <thead>\n",
       "    <tr style=\"text-align: right;\">\n",
       "      <th></th>\n",
       "      <th>name</th>\n",
       "      <th>age</th>\n",
       "      <th>marital status</th>\n",
       "      <th>salary</th>\n",
       "    </tr>\n",
       "  </thead>\n",
       "  <tbody>\n",
       "    <tr>\n",
       "      <th>0</th>\n",
       "      <td>john</td>\n",
       "      <td>30</td>\n",
       "      <td>single</td>\n",
       "      <td>10000</td>\n",
       "    </tr>\n",
       "    <tr>\n",
       "      <th>1</th>\n",
       "      <td>peter</td>\n",
       "      <td>40</td>\n",
       "      <td>married</td>\n",
       "      <td>30000</td>\n",
       "    </tr>\n",
       "    <tr>\n",
       "      <th>2</th>\n",
       "      <td>mercy</td>\n",
       "      <td>35</td>\n",
       "      <td>married</td>\n",
       "      <td>25000</td>\n",
       "    </tr>\n",
       "    <tr>\n",
       "      <th>3</th>\n",
       "      <td>mary</td>\n",
       "      <td>40</td>\n",
       "      <td>married</td>\n",
       "      <td>35000</td>\n",
       "    </tr>\n",
       "  </tbody>\n",
       "</table>\n",
       "</div>"
      ],
      "text/plain": [
       "    name  age marital status  salary\n",
       "0   john   30         single   10000\n",
       "1  peter   40        married   30000\n",
       "2  mercy   35        married   25000\n",
       "3   mary   40        married   35000"
      ]
     },
     "execution_count": 32,
     "metadata": {},
     "output_type": "execute_result"
    }
   ],
   "source": [
    "df = pd.DataFrame(dicty)\n",
    "df\n"
   ]
  },
  {
   "cell_type": "markdown",
   "id": "116ef18e-f040-42ee-bafe-b4a6a37e63dd",
   "metadata": {},
   "source": [
    "while loop "
   ]
  },
  {
   "cell_type": "code",
   "execution_count": 33,
   "id": "3eac1c85-d062-44b1-b8e6-e4ce6cb80d08",
   "metadata": {},
   "outputs": [
    {
     "name": "stdout",
     "output_type": "stream",
     "text": [
      "5\n"
     ]
    }
   ],
   "source": [
    "x = 5\n",
    "while True:\n",
    "    print(x)\n",
    "    break"
   ]
  },
  {
   "cell_type": "code",
   "execution_count": 1,
   "id": "f635a871-5263-41a2-b3df-9aecc9faf33a",
   "metadata": {},
   "outputs": [
    {
     "name": "stdin",
     "output_type": "stream",
     "text": [
      "enter a number:..... 1\n"
     ]
    },
    {
     "name": "stdout",
     "output_type": "stream",
     "text": [
      "average=1.0\n",
      "count=1\n"
     ]
    },
    {
     "name": "stdin",
     "output_type": "stream",
     "text": [
      "enter a number:..... 2\n"
     ]
    },
    {
     "name": "stdout",
     "output_type": "stream",
     "text": [
      "average=1.5\n",
      "count=2\n"
     ]
    },
    {
     "name": "stdin",
     "output_type": "stream",
     "text": [
      "enter a number:..... 3\n"
     ]
    },
    {
     "name": "stdout",
     "output_type": "stream",
     "text": [
      "average=2.0\n",
      "count=3\n"
     ]
    },
    {
     "name": "stdin",
     "output_type": "stream",
     "text": [
      "enter a number:..... 4\n"
     ]
    },
    {
     "name": "stdout",
     "output_type": "stream",
     "text": [
      "average=2.5\n",
      "count=4\n"
     ]
    },
    {
     "name": "stdin",
     "output_type": "stream",
     "text": [
      "enter a number:..... done\n"
     ]
    }
   ],
   "source": [
    "total = 0\n",
    "count = 0 \n",
    "while True: \n",
    "    num = input('enter a number:.....')\n",
    "    if num=='done':\n",
    "        break\n",
    "    num = int(num)\n",
    "    total = total+num\n",
    "    count = count + 1\n",
    "    average = total/count\n",
    "    print(f'average={average}\\ncount={count}')"
   ]
  },
  {
   "cell_type": "code",
   "execution_count": null,
   "id": "fb91c4b3-5f28-40a2-9da2-6d22a0eb90fa",
   "metadata": {},
   "outputs": [],
   "source": [
    "#write a program to promp a user to enter different numbers five times, then store the numbers in a list\n",
    "# and find the sum of the items in a list"
   ]
  },
  {
   "cell_type": "code",
   "execution_count": 18,
   "id": "dac5400d-b276-4038-ba0c-4fd1f0b56796",
   "metadata": {},
   "outputs": [
    {
     "name": "stdin",
     "output_type": "stream",
     "text": [
      "enter a number:..... 2\n",
      "enter a number:..... 4\n",
      "enter a number:..... 6\n",
      "enter a number:..... 8\n",
      "enter a number:..... 10\n"
     ]
    },
    {
     "name": "stdout",
     "output_type": "stream",
     "text": [
      "total=30\n",
      "nlist=[2, 4, 6, 8, 10]\n"
     ]
    }
   ],
   "source": [
    "total = 0\n",
    "count = 0 \n",
    "nlist =[]\n",
    "while count<= 4: \n",
    "    num =int( input('enter a number:.....'))\n",
    "    count = count + 1\n",
    "    nlist.append(num)\n",
    "    total = total+num\n",
    "print(f'total={total}\\nnlist={nlist}')\n",
    "    "
   ]
  },
  {
   "cell_type": "markdown",
   "id": "86423a8a-010c-4ed7-bcd7-e5391a73fbf7",
   "metadata": {},
   "source": [
    "MEAN, MEDIAN & MODE"
   ]
  },
  {
   "cell_type": "code",
   "execution_count": null,
   "id": "d44fd19f-6eaa-4ed3-8c04-cbbdc138518e",
   "metadata": {},
   "outputs": [],
   "source": [
    "# write a program to calculate the mean of a list"
   ]
  },
  {
   "cell_type": "code",
   "execution_count": 19,
   "id": "de12cdc0-6ebc-467c-ac29-46e4ebda57ca",
   "metadata": {},
   "outputs": [
    {
     "data": {
      "text/plain": [
       "4.5"
      ]
     },
     "execution_count": 19,
     "metadata": {},
     "output_type": "execute_result"
    }
   ],
   "source": [
    "f= [3,2,4,6,7,5] #2,3,4,5,6,7\n",
    "s= 0\n",
    "f.sort()\n",
    "for i in f:\n",
    "    s=s+i\n",
    "meanx=s/len(f)\n",
    "meanx"
   ]
  },
  {
   "cell_type": "code",
   "execution_count": 20,
   "id": "dddae42c-d52f-4386-9b79-4db618226326",
   "metadata": {},
   "outputs": [
    {
     "data": {
      "text/plain": [
       "5"
      ]
     },
     "execution_count": 20,
     "metadata": {},
     "output_type": "execute_result"
    }
   ],
   "source": [
    "g=[4,1,6,7,5]\n",
    "g.sort()\n",
    "position1= int(len(g)/2)\n",
    "median1=g[position1]\n",
    "median1"
   ]
  },
  {
   "cell_type": "code",
   "execution_count": 21,
   "id": "4bd50811-90f6-4348-ad17-cbb1e68b664a",
   "metadata": {},
   "outputs": [
    {
     "data": {
      "text/plain": [
       "4.5"
      ]
     },
     "execution_count": 21,
     "metadata": {},
     "output_type": "execute_result"
    }
   ],
   "source": [
    "f.sort()\n",
    "position2 = int(len(f)/2)\n",
    "mid1 = f[position2]\n",
    "position3 = position2 - 1\n",
    "mid2 = f[position3]\n",
    "median2 = (mid1 +mid2)/2\n",
    "median2"
   ]
  },
  {
   "cell_type": "code",
   "execution_count": 28,
   "id": "c3ee6faf-038e-47af-8bfc-30d10a5b6a5b",
   "metadata": {},
   "outputs": [
    {
     "name": "stdout",
     "output_type": "stream",
     "text": [
      "{3: 2, 4: 3, 5: 1, 2: 4, 7: 1}\n",
      "[2, 3, 1, 4, 1]\n",
      "4\n",
      " The mode is 2\n"
     ]
    }
   ],
   "source": [
    "d = [3,3,4,4,4,5,2,2,2,2,7] #{3:2,4:3,5:1,2:4,7:1}\n",
    "count = {}\n",
    "for i in d:\n",
    "    count[i]= count.get(i,0) + 1\n",
    "print(count)\n",
    "h= []\n",
    "for i,n in count.items():\n",
    "    h.append(n)\n",
    "print(h)\n",
    "p=h[0]\n",
    "for i in h:\n",
    "    if i > p:\n",
    "        p=i\n",
    "print(p)\n",
    "for i,n in count.items():\n",
    "    if p ==n:\n",
    "        print(f' The mode is {i}')"
   ]
  },
  {
   "cell_type": "markdown",
   "id": "fa8ab95a-0e4a-4c51-aed6-9da1c232b561",
   "metadata": {},
   "source": [
    "Function\n",
    "Functions are precoded programs to perform a specific task\n"
   ]
  },
  {
   "cell_type": "code",
   "execution_count": 29,
   "id": "e8d3b18b-cef8-4c86-8f88-9b82bf5d0afd",
   "metadata": {},
   "outputs": [],
   "source": [
    "#syntax for function\n",
    "#{def name(x):\n",
    "# return}\n"
   ]
  },
  {
   "cell_type": "code",
   "execution_count": 32,
   "id": "12fc9080-b47c-442d-9afe-96e16d47d8e2",
   "metadata": {},
   "outputs": [],
   "source": [
    "def sumx(y):\n",
    "    s=0\n",
    "    for i in y:\n",
    "        s+=i\n",
    "    return(s)\n"
   ]
  },
  {
   "cell_type": "code",
   "execution_count": 33,
   "id": "5488308c-9266-4ca7-b15c-2cb35ebdf511",
   "metadata": {
    "scrolled": true
   },
   "outputs": [
    {
     "data": {
      "text/plain": [
       "38"
      ]
     },
     "execution_count": 33,
     "metadata": {},
     "output_type": "execute_result"
    }
   ],
   "source": [
    "sumx(d)"
   ]
  },
  {
   "cell_type": "code",
   "execution_count": 37,
   "id": "e0996502-ba5f-4dc0-9eec-a14504b6c00d",
   "metadata": {},
   "outputs": [],
   "source": [
    "def lenx(z):\n",
    "    l=0\n",
    "    for i in z:\n",
    "        l=l+1\n",
    "    return l\n",
    "\n"
   ]
  },
  {
   "cell_type": "code",
   "execution_count": 38,
   "id": "8bd39063-1550-4ab8-acc4-ad7c98ac859a",
   "metadata": {},
   "outputs": [
    {
     "data": {
      "text/plain": [
       "11"
      ]
     },
     "execution_count": 38,
     "metadata": {},
     "output_type": "execute_result"
    }
   ],
   "source": [
    "lenx(d)"
   ]
  },
  {
   "cell_type": "code",
   "execution_count": 48,
   "id": "2c3becb6-92ab-4da5-a730-a8ce4ea0b4da",
   "metadata": {},
   "outputs": [],
   "source": [
    "def meanx(t):\n",
    "    h=0\n",
    "    for i in t:\n",
    "        h=h+i\n",
    "        m= round(h/len(t),2)\n",
    "    return m\n",
    "        \n",
    "    "
   ]
  },
  {
   "cell_type": "code",
   "execution_count": null,
   "id": "c8256b7d-be2c-4ed4-9ba2-28c702b0ae99",
   "metadata": {},
   "outputs": [],
   "source": []
  },
  {
   "cell_type": "code",
   "execution_count": 65,
   "id": "69598056-24c9-43bd-8c71-76cc2563cb54",
   "metadata": {},
   "outputs": [],
   "source": [
    "#write a function to check if a list is even or odd\n",
    "#and calculate the median"
   ]
  },
  {
   "cell_type": "code",
   "execution_count": 49,
   "id": "ba477a64-e213-4dd1-8bcd-483f4b8157bd",
   "metadata": {},
   "outputs": [
    {
     "data": {
      "text/plain": [
       "3.45"
      ]
     },
     "execution_count": 49,
     "metadata": {},
     "output_type": "execute_result"
    }
   ],
   "source": [
    "meanx(d)"
   ]
  },
  {
   "cell_type": "code",
   "execution_count": null,
   "id": "5ecfaa99-4967-42b5-b7ba-27b1503f10ff",
   "metadata": {},
   "outputs": [],
   "source": [
    "#write a function to find the mode of a list"
   ]
  },
  {
   "cell_type": "code",
   "execution_count": 63,
   "id": "07c7ffc4-6e91-493c-b162-c22dfb819fca",
   "metadata": {},
   "outputs": [],
   "source": [
    "def modex(p):\n",
    "    count= {}\n",
    "    for i in p:\n",
    "        count[i]=count.get(i,0)+1\n",
    "    d=[]\n",
    "    for i,n in count.items():\n",
    "        d.append(n)\n",
    "    p=d[0]\n",
    "    for i in d:\n",
    "        if i>p:\n",
    "            p=i\n",
    "    for i,n in count.items():\n",
    "        if p ==n:\n",
    "            return(i)"
   ]
  },
  {
   "cell_type": "code",
   "execution_count": 64,
   "id": "7e3b3728-5534-4533-bb19-0152845991f1",
   "metadata": {},
   "outputs": [
    {
     "data": {
      "text/plain": [
       "2"
      ]
     },
     "execution_count": 64,
     "metadata": {},
     "output_type": "execute_result"
    }
   ],
   "source": [
    "modex(d)"
   ]
  },
  {
   "cell_type": "markdown",
   "id": "39f78c13-2521-4165-aafa-9162bc533fce",
   "metadata": {},
   "source": [
    "MATRICES"
   ]
  },
  {
   "cell_type": "code",
   "execution_count": 1,
   "id": "88524461-2afa-45fe-a0b3-8bf2174404e6",
   "metadata": {},
   "outputs": [],
   "source": [
    "# A Matrix is a nested list."
   ]
  },
  {
   "cell_type": "code",
   "execution_count": 2,
   "id": "b5786513-15cb-45b2-bd7c-42e031069626",
   "metadata": {},
   "outputs": [
    {
     "data": {
      "text/plain": [
       "[[5, 10, 15], [2, 845, 69], [10, 20, 30]]"
      ]
     },
     "execution_count": 2,
     "metadata": {},
     "output_type": "execute_result"
    }
   ],
   "source": [
    "mat= [[5,10,15],\n",
    "      [2,845,69],\n",
    "      [10,20,30]]\n",
    "mat"
   ]
  },
  {
   "cell_type": "code",
   "execution_count": 3,
   "id": "0cfd5fbd-eab0-40fc-a092-8e66e066aec9",
   "metadata": {},
   "outputs": [
    {
     "data": {
      "text/plain": [
       "[[5, 10, 15],\n",
       " [2, 845, 69],\n",
       " [10, 20, 30],\n",
       " [5, 10, 15],\n",
       " [2, 845, 69],\n",
       " [10, 20, 30]]"
      ]
     },
     "execution_count": 3,
     "metadata": {},
     "output_type": "execute_result"
    }
   ],
   "source": [
    "mat * 2"
   ]
  },
  {
   "cell_type": "code",
   "execution_count": 68,
   "id": "a4dacb1b-bd04-49db-bf5a-670151867cbd",
   "metadata": {},
   "outputs": [
    {
     "data": {
      "text/plain": [
       "[[5, 10, 15], [2, 845, 69], [10, 20, 30]]"
      ]
     },
     "execution_count": 68,
     "metadata": {},
     "output_type": "execute_result"
    }
   ],
   "source": [
    "mat=[[5,10,15],[2,845,69],[10,20,30]]\n",
    "mat"
   ]
  },
  {
   "cell_type": "code",
   "execution_count": 69,
   "id": "6694336f-d132-4e08-a7e6-0e7b3a0f2a55",
   "metadata": {},
   "outputs": [
    {
     "name": "stdout",
     "output_type": "stream",
     "text": [
      "[5, 2, 10] [10, 845, 20] [15, 69, 30]\n"
     ]
    }
   ],
   "source": [
    "aval=[]\n",
    "bval=[]\n",
    "cval=[]\n",
    "for a,b,c in mat:\n",
    "    aval.append(a)\n",
    "    bval.append(b)\n",
    "    cval.append(c)\n",
    "print (aval,bval,cval)"
   ]
  },
  {
   "cell_type": "markdown",
   "id": "9a93dc30-ed3a-499b-af31-9480d5e1d6a8",
   "metadata": {},
   "source": [
    "NUMPY-Numerical Python"
   ]
  },
  {
   "cell_type": "code",
   "execution_count": 70,
   "id": "a28fa24c-51ca-44f8-bdbf-79fe8e26c9e3",
   "metadata": {},
   "outputs": [],
   "source": [
    "#creating an array\n",
    "import numpy as np\n",
    "a=np.array([2,4,6,8,])"
   ]
  },
  {
   "cell_type": "code",
   "execution_count": 71,
   "id": "0a5a5380-eb05-401e-9bb9-fea533535389",
   "metadata": {},
   "outputs": [
    {
     "data": {
      "text/plain": [
       "array([2, 4, 6, 8])"
      ]
     },
     "execution_count": 71,
     "metadata": {},
     "output_type": "execute_result"
    }
   ],
   "source": [
    "a"
   ]
  },
  {
   "cell_type": "code",
   "execution_count": 72,
   "id": "8fb57f51-85a0-41c8-bb3c-4064348b092b",
   "metadata": {},
   "outputs": [],
   "source": [
    "b=[2,4,6,8]\n",
    "b=np.array(b)"
   ]
  },
  {
   "cell_type": "code",
   "execution_count": 73,
   "id": "070a6e32-91f0-45ba-8c4e-63fd5c3e4db8",
   "metadata": {},
   "outputs": [
    {
     "data": {
      "text/plain": [
       "array([2, 4, 6, 8])"
      ]
     },
     "execution_count": 73,
     "metadata": {},
     "output_type": "execute_result"
    }
   ],
   "source": [
    "b"
   ]
  },
  {
   "cell_type": "code",
   "execution_count": 74,
   "id": "400acad7-e2e0-45aa-831a-9c187aa2aa13",
   "metadata": {},
   "outputs": [
    {
     "data": {
      "text/plain": [
       "array([ 4,  8, 12, 16])"
      ]
     },
     "execution_count": 74,
     "metadata": {},
     "output_type": "execute_result"
    }
   ],
   "source": [
    "b*2"
   ]
  },
  {
   "cell_type": "code",
   "execution_count": 75,
   "id": "4293d432-3701-4dab-88d6-8ce72c87bc32",
   "metadata": {},
   "outputs": [
    {
     "data": {
      "text/plain": [
       "array([2, 4, 6, 8])"
      ]
     },
     "execution_count": 75,
     "metadata": {},
     "output_type": "execute_result"
    }
   ],
   "source": [
    "a"
   ]
  },
  {
   "cell_type": "code",
   "execution_count": 76,
   "id": "8cddf948-2669-4611-bfd4-8f7ecf49dada",
   "metadata": {},
   "outputs": [],
   "source": [
    "w=[1,2,4,6,8]"
   ]
  },
  {
   "cell_type": "code",
   "execution_count": 77,
   "id": "530284e3-096c-407b-ba7b-44480a3d296d",
   "metadata": {},
   "outputs": [],
   "source": [
    "d=np.array(w)"
   ]
  },
  {
   "cell_type": "code",
   "execution_count": 78,
   "id": "55a4b3e0-d5e8-4e73-a7be-8ed7bf785746",
   "metadata": {},
   "outputs": [
    {
     "data": {
      "text/plain": [
       "array([1, 2, 4, 6, 8])"
      ]
     },
     "execution_count": 78,
     "metadata": {},
     "output_type": "execute_result"
    }
   ],
   "source": [
    "d"
   ]
  },
  {
   "cell_type": "markdown",
   "id": "b52faf9a-6d5d-464c-83f4-827e9f1b6f27",
   "metadata": {},
   "source": [
    "NUMPY"
   ]
  },
  {
   "cell_type": "code",
   "execution_count": 16,
   "id": "6f77a794-702f-49c3-97ad-16c67bbbcbfa",
   "metadata": {},
   "outputs": [],
   "source": [
    "# Creating an array \n",
    "import numpy as np\n",
    "a= np.array([2,4,6,8,])"
   ]
  },
  {
   "cell_type": "code",
   "execution_count": 17,
   "id": "13e044fa-d4e0-451d-a2f4-f0294849ee3c",
   "metadata": {},
   "outputs": [
    {
     "data": {
      "text/plain": [
       "array([2, 4, 6, 8])"
      ]
     },
     "execution_count": 17,
     "metadata": {},
     "output_type": "execute_result"
    }
   ],
   "source": [
    "a"
   ]
  },
  {
   "cell_type": "code",
   "execution_count": 18,
   "id": "dc47457e-a1d2-48da-b615-f6710cbe8ff6",
   "metadata": {},
   "outputs": [
    {
     "data": {
      "text/plain": [
       "array([1, 2, 3, 4, 5])"
      ]
     },
     "execution_count": 18,
     "metadata": {},
     "output_type": "execute_result"
    }
   ],
   "source": [
    "a=[1,2,3,4,5]\n",
    "a=np.array(a)\n",
    "a"
   ]
  },
  {
   "cell_type": "code",
   "execution_count": 19,
   "id": "7178fc24-37d1-4861-8e65-33ffe7e9744c",
   "metadata": {},
   "outputs": [],
   "source": [
    "mat=[[1,2,3],\n",
    "     [4,5,6]]"
   ]
  },
  {
   "cell_type": "code",
   "execution_count": 20,
   "id": "5b0dba51-fb6e-4b53-9cec-b4fd4c1a01f9",
   "metadata": {},
   "outputs": [
    {
     "data": {
      "text/plain": [
       "[[1, 2, 3], [4, 5, 6], [1, 2, 3], [4, 5, 6]]"
      ]
     },
     "execution_count": 20,
     "metadata": {},
     "output_type": "execute_result"
    }
   ],
   "source": [
    "mat*2"
   ]
  },
  {
   "cell_type": "code",
   "execution_count": 21,
   "id": "319b0cdd-5e20-4f42-8fde-0addf68d120d",
   "metadata": {},
   "outputs": [
    {
     "data": {
      "text/plain": [
       "array([[1, 2, 3],\n",
       "       [4, 5, 6]])"
      ]
     },
     "execution_count": 21,
     "metadata": {},
     "output_type": "execute_result"
    }
   ],
   "source": [
    "mat1=np.array(mat)\n",
    "mat1"
   ]
  },
  {
   "cell_type": "code",
   "execution_count": 22,
   "id": "71866c8f-1e3b-4fc4-93c1-63808084cee2",
   "metadata": {},
   "outputs": [
    {
     "data": {
      "text/plain": [
       "array([[ 2,  4,  6],\n",
       "       [ 8, 10, 12]])"
      ]
     },
     "execution_count": 22,
     "metadata": {},
     "output_type": "execute_result"
    }
   ],
   "source": [
    "mat1*2"
   ]
  },
  {
   "cell_type": "code",
   "execution_count": 23,
   "id": "2e4b262d-0e73-4113-9db5-61923b267c9b",
   "metadata": {},
   "outputs": [
    {
     "data": {
      "text/plain": [
       "array([1, 2, 3])"
      ]
     },
     "execution_count": 23,
     "metadata": {},
     "output_type": "execute_result"
    }
   ],
   "source": [
    "mat2=np.array([1,2,3])\n",
    "mat2"
   ]
  },
  {
   "cell_type": "code",
   "execution_count": 24,
   "id": "13e19166-7e66-4536-971e-ae4731012277",
   "metadata": {},
   "outputs": [
    {
     "data": {
      "text/plain": [
       "array([[0.5, 1. , 1.5],\n",
       "       [2. , 2.5, 3. ]])"
      ]
     },
     "execution_count": 24,
     "metadata": {},
     "output_type": "execute_result"
    }
   ],
   "source": [
    "mat1/2"
   ]
  },
  {
   "cell_type": "code",
   "execution_count": 25,
   "id": "41fb502b-8c56-4198-87b9-2ea13a8416bd",
   "metadata": {},
   "outputs": [
    {
     "data": {
      "text/plain": [
       "array([[3, 4, 5],\n",
       "       [6, 7, 8]])"
      ]
     },
     "execution_count": 25,
     "metadata": {},
     "output_type": "execute_result"
    }
   ],
   "source": [
    "mat1+2"
   ]
  },
  {
   "cell_type": "code",
   "execution_count": 26,
   "id": "0e4ede0d-823e-4973-ac2b-a5c88af46691",
   "metadata": {},
   "outputs": [
    {
     "data": {
      "text/plain": [
       "array([[0, 1, 2],\n",
       "       [3, 4, 5]])"
      ]
     },
     "execution_count": 26,
     "metadata": {},
     "output_type": "execute_result"
    }
   ],
   "source": [
    "mat1-1"
   ]
  },
  {
   "cell_type": "markdown",
   "id": "aeac0641-5acd-4ec1-b282-df323778675c",
   "metadata": {},
   "source": [
    "BROADCASTING"
   ]
  },
  {
   "cell_type": "code",
   "execution_count": 27,
   "id": "25062f69-62ae-4f1c-bab2-d254f62cb5b7",
   "metadata": {},
   "outputs": [
    {
     "data": {
      "text/plain": [
       "array([[ 1,  4,  9],\n",
       "       [ 4, 10, 18]])"
      ]
     },
     "execution_count": 27,
     "metadata": {},
     "output_type": "execute_result"
    }
   ],
   "source": [
    "mat1*mat2"
   ]
  },
  {
   "cell_type": "markdown",
   "id": "45b0a13e-1a0c-4b6b-a100-b043ef036a87",
   "metadata": {},
   "source": [
    "Manipulating array shapes"
   ]
  },
  {
   "cell_type": "code",
   "execution_count": 28,
   "id": "3fc38345-f42b-4b4f-b9ba-a63545d28071",
   "metadata": {},
   "outputs": [],
   "source": [
    "# our main focus is on array manipulation. Let's learn some new Python\n",
    "# functions of Numpy, such as reshape(),flatten(),ravel(),transpose(),\n",
    "# resize():"
   ]
  },
  {
   "cell_type": "code",
   "execution_count": 31,
   "id": "269f230f-0747-4471-929b-db046c10f9aa",
   "metadata": {},
   "outputs": [
    {
     "name": "stdout",
     "output_type": "stream",
     "text": [
      "[ 0  1  2  3  4  5  6  7  8  9 10 11]\n"
     ]
    }
   ],
   "source": [
    "# reshape() will change the shape of the array:\n",
    "# Create an array\n",
    "arr = np.arange(12)\n",
    "print(arr)"
   ]
  },
  {
   "cell_type": "code",
   "execution_count": 32,
   "id": "fe4488c3-d619-4b82-9cb7-fb5c97a0c906",
   "metadata": {},
   "outputs": [
    {
     "name": "stdout",
     "output_type": "stream",
     "text": [
      "[[ 0  1  2]\n",
      " [ 3  4  5]\n",
      " [ 6  7  8]\n",
      " [ 9 10 11]]\n"
     ]
    }
   ],
   "source": [
    "#Reshape the array dimension\n",
    "new_arr=arr.reshape(4,3)\n",
    "print(new_arr)"
   ]
  },
  {
   "cell_type": "code",
   "execution_count": 36,
   "id": "edf5273e-f8d5-4fcd-9672-fccd3143339c",
   "metadata": {},
   "outputs": [
    {
     "name": "stdout",
     "output_type": "stream",
     "text": [
      "[[1 2 3]\n",
      " [4 5 6]\n",
      " [7 8 9]]\n"
     ]
    }
   ],
   "source": [
    "#Another operation that can be applied to arrays is flatten().flatten()\n",
    "#transform on n-dimensional array into a one-dimensional array:\n",
    "# Create an array\n",
    "arr=np.arange(1,10).reshape(3,3)\n",
    "print(arr)"
   ]
  },
  {
   "cell_type": "code",
   "execution_count": 37,
   "id": "5fca19eb-d669-4e25-8ed7-e415526267c6",
   "metadata": {},
   "outputs": [
    {
     "name": "stdout",
     "output_type": "stream",
     "text": [
      "[1 2 3 4 5 6 7 8 9]\n"
     ]
    }
   ],
   "source": [
    "print(arr.flatten())"
   ]
  },
  {
   "cell_type": "code",
   "execution_count": 102,
   "id": "0598717f-ef97-4891-9f03-b56c4f248132",
   "metadata": {},
   "outputs": [],
   "source": [
    "# The ravel() function is similar to the flatten() function.It also transforms an\n",
    "# n-dimensional array into a one-dimensional array. The main difference is that\n",
    "# flatten() returns the actual array while ravel() returns the reference of the\n",
    "# original array.The ravel() function is faster than the flatten() function\n",
    "# because it does not occupy extra memory:"
   ]
  },
  {
   "cell_type": "code",
   "execution_count": 38,
   "id": "0c78eb79-1fc1-4977-8ebf-e4c7782df052",
   "metadata": {},
   "outputs": [
    {
     "name": "stdout",
     "output_type": "stream",
     "text": [
      "[1 2 3 4 5 6 7 8 9]\n"
     ]
    }
   ],
   "source": [
    "print(arr.ravel())"
   ]
  },
  {
   "cell_type": "code",
   "execution_count": 39,
   "id": "e610389f-b227-40d9-ba29-6021284fd6ae",
   "metadata": {},
   "outputs": [
    {
     "name": "stdout",
     "output_type": "stream",
     "text": [
      "[[1 4 7]\n",
      " [2 5 8]\n",
      " [3 6 9]]\n"
     ]
    }
   ],
   "source": [
    "#The transpose() function is a linear algebraic function that transposes the \n",
    "# given two-dimensional matrix. The word transpose means converting rows into\n",
    "#columns and columns into rows:\n",
    "# Transpose the matrix\n",
    "print(arr.transpose())"
   ]
  },
  {
   "cell_type": "code",
   "execution_count": 40,
   "id": "c7871094-4a48-44e9-aca2-738ca56271f4",
   "metadata": {},
   "outputs": [
    {
     "name": "stdout",
     "output_type": "stream",
     "text": [
      "[[1 4 7]\n",
      " [2 5 8]\n",
      " [3 6 9]]\n"
     ]
    }
   ],
   "source": [
    "print(arr.T)"
   ]
  },
  {
   "cell_type": "markdown",
   "id": "12b89be4-a313-4732-a6ba-6d34111d5e7a",
   "metadata": {},
   "source": [
    "PANDAS"
   ]
  },
  {
   "cell_type": "code",
   "execution_count": null,
   "id": "3a700e68-5625-4fb7-b2bc-0b0e8a985fda",
   "metadata": {},
   "outputs": [],
   "source": [
    "#Pandas is used to manipulate data set\n",
    "# Pandas has two data structure\n",
    "# 1. Series\n",
    "# 2. DataFrame"
   ]
  },
  {
   "cell_type": "code",
   "execution_count": 151,
   "id": "882a441d-cc2d-44cb-8c8a-387ea69b8d35",
   "metadata": {},
   "outputs": [],
   "source": [
    "import numpy as np\n",
    "import pandas as pd\n"
   ]
  },
  {
   "cell_type": "code",
   "execution_count": 152,
   "id": "1742c9cd-3753-435a-9108-d42f49ddb806",
   "metadata": {},
   "outputs": [
    {
     "data": {
      "text/plain": [
       "0     john\n",
       "1    peter\n",
       "2    james\n",
       "dtype: object"
      ]
     },
     "execution_count": 152,
     "metadata": {},
     "output_type": "execute_result"
    }
   ],
   "source": [
    "dicty = {0:'john',1:'peter',2:'james'}\n",
    "series= pd.Series(dicty)\n",
    "series"
   ]
  },
  {
   "cell_type": "code",
   "execution_count": 153,
   "id": "1d156baa-d8d0-4b02-943a-4ec8181af683",
   "metadata": {},
   "outputs": [
    {
     "data": {
      "text/html": [
       "<div>\n",
       "<style scoped>\n",
       "    .dataframe tbody tr th:only-of-type {\n",
       "        vertical-align: middle;\n",
       "    }\n",
       "\n",
       "    .dataframe tbody tr th {\n",
       "        vertical-align: top;\n",
       "    }\n",
       "\n",
       "    .dataframe thead th {\n",
       "        text-align: right;\n",
       "    }\n",
       "</style>\n",
       "<table border=\"1\" class=\"dataframe\">\n",
       "  <thead>\n",
       "    <tr style=\"text-align: right;\">\n",
       "      <th></th>\n",
       "      <th>name</th>\n",
       "      <th>age</th>\n",
       "      <th>marital status</th>\n",
       "    </tr>\n",
       "  </thead>\n",
       "  <tbody>\n",
       "    <tr>\n",
       "      <th>0</th>\n",
       "      <td>ben</td>\n",
       "      <td>25</td>\n",
       "      <td>s</td>\n",
       "    </tr>\n",
       "    <tr>\n",
       "      <th>1</th>\n",
       "      <td>phil</td>\n",
       "      <td>30</td>\n",
       "      <td>m</td>\n",
       "    </tr>\n",
       "    <tr>\n",
       "      <th>2</th>\n",
       "      <td>John</td>\n",
       "      <td>40</td>\n",
       "      <td>m</td>\n",
       "    </tr>\n",
       "    <tr>\n",
       "      <th>3</th>\n",
       "      <td>James</td>\n",
       "      <td>35</td>\n",
       "      <td>s</td>\n",
       "    </tr>\n",
       "  </tbody>\n",
       "</table>\n",
       "</div>"
      ],
      "text/plain": [
       "    name  age marital status\n",
       "0    ben   25              s\n",
       "1   phil   30              m\n",
       "2   John   40              m\n",
       "3  James   35              s"
      ]
     },
     "execution_count": 153,
     "metadata": {},
     "output_type": "execute_result"
    }
   ],
   "source": [
    "df= pd.DataFrame({'name':['ben','phil','John','James'],\n",
    "                  'age':[25,30,40,35],\n",
    "                  'marital status':['s','m','m','s']})\n",
    "df\n",
    "                  "
   ]
  },
  {
   "cell_type": "markdown",
   "id": "a6265261-eecf-42d9-ba04-2c38fbc5267b",
   "metadata": {},
   "source": [
    "Data Analysis\n",
    "1. Data Discovery\n",
    "2. Data wrangling/cleaning\n",
    "3. EDA (Exploratory Data Analysis)"
   ]
  },
  {
   "cell_type": "code",
   "execution_count": 154,
   "id": "998196c0-1298-4806-b39d-b59b72f14e2f",
   "metadata": {},
   "outputs": [
    {
     "data": {
      "text/html": [
       "<div>\n",
       "<style scoped>\n",
       "    .dataframe tbody tr th:only-of-type {\n",
       "        vertical-align: middle;\n",
       "    }\n",
       "\n",
       "    .dataframe tbody tr th {\n",
       "        vertical-align: top;\n",
       "    }\n",
       "\n",
       "    .dataframe thead th {\n",
       "        text-align: right;\n",
       "    }\n",
       "</style>\n",
       "<table border=\"1\" class=\"dataframe\">\n",
       "  <thead>\n",
       "    <tr style=\"text-align: right;\">\n",
       "      <th></th>\n",
       "      <th>SALES_ID</th>\n",
       "      <th>SALES_REP</th>\n",
       "      <th>EMAILS</th>\n",
       "      <th>BRANDS</th>\n",
       "      <th>PLANT_COST</th>\n",
       "      <th>UNIT_PRICE</th>\n",
       "      <th>QUANTITY</th>\n",
       "      <th>COST</th>\n",
       "      <th>PROFIT</th>\n",
       "      <th>COUNTRIES</th>\n",
       "      <th>REGION</th>\n",
       "      <th>MONTHS</th>\n",
       "      <th>YEARS</th>\n",
       "    </tr>\n",
       "  </thead>\n",
       "  <tbody>\n",
       "    <tr>\n",
       "      <th>0</th>\n",
       "      <td>10101</td>\n",
       "      <td>Jardine</td>\n",
       "      <td>jard@gmail.com</td>\n",
       "      <td>trophy</td>\n",
       "      <td>150</td>\n",
       "      <td>200</td>\n",
       "      <td>725</td>\n",
       "      <td>145000</td>\n",
       "      <td>36250</td>\n",
       "      <td>Ghana</td>\n",
       "      <td>Southeast</td>\n",
       "      <td>January</td>\n",
       "      <td>2019</td>\n",
       "    </tr>\n",
       "    <tr>\n",
       "      <th>1</th>\n",
       "      <td>10102</td>\n",
       "      <td>Gill</td>\n",
       "      <td>gillhell@uk.com</td>\n",
       "      <td>budweiser</td>\n",
       "      <td>250</td>\n",
       "      <td>500</td>\n",
       "      <td>815</td>\n",
       "      <td>407500</td>\n",
       "      <td>203750</td>\n",
       "      <td>Nigeria</td>\n",
       "      <td>west</td>\n",
       "      <td>February</td>\n",
       "      <td>2018</td>\n",
       "    </tr>\n",
       "    <tr>\n",
       "      <th>2</th>\n",
       "      <td>10103</td>\n",
       "      <td>Sorvino</td>\n",
       "      <td>sorvi2000@gmail.com</td>\n",
       "      <td>castle lite</td>\n",
       "      <td>180</td>\n",
       "      <td>450</td>\n",
       "      <td>937</td>\n",
       "      <td>421650</td>\n",
       "      <td>252990</td>\n",
       "      <td>Togo</td>\n",
       "      <td>southsouth</td>\n",
       "      <td>March</td>\n",
       "      <td>2018</td>\n",
       "    </tr>\n",
       "    <tr>\n",
       "      <th>3</th>\n",
       "      <td>10104</td>\n",
       "      <td>Jones</td>\n",
       "      <td>jone.ai@yahoo.com</td>\n",
       "      <td>eagle lager</td>\n",
       "      <td>170</td>\n",
       "      <td>250</td>\n",
       "      <td>765</td>\n",
       "      <td>191250</td>\n",
       "      <td>61200</td>\n",
       "      <td>Benin</td>\n",
       "      <td>northwest</td>\n",
       "      <td>April</td>\n",
       "      <td>2018</td>\n",
       "    </tr>\n",
       "    <tr>\n",
       "      <th>4</th>\n",
       "      <td>10105</td>\n",
       "      <td>Andrews</td>\n",
       "      <td>andy@gmail.com</td>\n",
       "      <td>hero</td>\n",
       "      <td>150</td>\n",
       "      <td>200</td>\n",
       "      <td>836</td>\n",
       "      <td>167200</td>\n",
       "      <td>41800</td>\n",
       "      <td>Senegal</td>\n",
       "      <td>northeast</td>\n",
       "      <td>May</td>\n",
       "      <td>2017</td>\n",
       "    </tr>\n",
       "    <tr>\n",
       "      <th>...</th>\n",
       "      <td>...</td>\n",
       "      <td>...</td>\n",
       "      <td>...</td>\n",
       "      <td>...</td>\n",
       "      <td>...</td>\n",
       "      <td>...</td>\n",
       "      <td>...</td>\n",
       "      <td>...</td>\n",
       "      <td>...</td>\n",
       "      <td>...</td>\n",
       "      <td>...</td>\n",
       "      <td>...</td>\n",
       "      <td>...</td>\n",
       "    </tr>\n",
       "    <tr>\n",
       "      <th>1042</th>\n",
       "      <td>11143</td>\n",
       "      <td>Jardine</td>\n",
       "      <td>jard@gmail.com</td>\n",
       "      <td>grand malt</td>\n",
       "      <td>90</td>\n",
       "      <td>150</td>\n",
       "      <td>962</td>\n",
       "      <td>144300</td>\n",
       "      <td>57720</td>\n",
       "      <td>Togo</td>\n",
       "      <td>northeast</td>\n",
       "      <td>November</td>\n",
       "      <td>2017</td>\n",
       "    </tr>\n",
       "    <tr>\n",
       "      <th>1043</th>\n",
       "      <td>11144</td>\n",
       "      <td>Jardine</td>\n",
       "      <td>jard@gmail.com</td>\n",
       "      <td>trophy</td>\n",
       "      <td>150</td>\n",
       "      <td>200</td>\n",
       "      <td>892</td>\n",
       "      <td>178400</td>\n",
       "      <td>44600</td>\n",
       "      <td>Benin</td>\n",
       "      <td>northcentral</td>\n",
       "      <td>December</td>\n",
       "      <td>2017</td>\n",
       "    </tr>\n",
       "    <tr>\n",
       "      <th>1044</th>\n",
       "      <td>11145</td>\n",
       "      <td>Andrews</td>\n",
       "      <td>andy@gmail.com</td>\n",
       "      <td>budweiser</td>\n",
       "      <td>250</td>\n",
       "      <td>500</td>\n",
       "      <td>816</td>\n",
       "      <td>408000</td>\n",
       "      <td>204000</td>\n",
       "      <td>Senegal</td>\n",
       "      <td>Southeast</td>\n",
       "      <td>January</td>\n",
       "      <td>2019</td>\n",
       "    </tr>\n",
       "    <tr>\n",
       "      <th>1045</th>\n",
       "      <td>11146</td>\n",
       "      <td>Jones</td>\n",
       "      <td>jone.ai@yahoo.com</td>\n",
       "      <td>castle lite</td>\n",
       "      <td>180</td>\n",
       "      <td>450</td>\n",
       "      <td>939</td>\n",
       "      <td>422550</td>\n",
       "      <td>253530</td>\n",
       "      <td>Ghana</td>\n",
       "      <td>west</td>\n",
       "      <td>February</td>\n",
       "      <td>2017</td>\n",
       "    </tr>\n",
       "    <tr>\n",
       "      <th>1046</th>\n",
       "      <td>11147</td>\n",
       "      <td>Morgan</td>\n",
       "      <td>morganny@gmail.com</td>\n",
       "      <td>eagle lager</td>\n",
       "      <td>170</td>\n",
       "      <td>250</td>\n",
       "      <td>935</td>\n",
       "      <td>233750</td>\n",
       "      <td>74800</td>\n",
       "      <td>Nigeria</td>\n",
       "      <td>southsouth</td>\n",
       "      <td>March</td>\n",
       "      <td>2019</td>\n",
       "    </tr>\n",
       "  </tbody>\n",
       "</table>\n",
       "<p>1047 rows × 13 columns</p>\n",
       "</div>"
      ],
      "text/plain": [
       "      SALES_ID SALES_REP               EMAILS       BRANDS  PLANT_COST  \\\n",
       "0        10101   Jardine       jard@gmail.com       trophy         150   \n",
       "1        10102      Gill      gillhell@uk.com    budweiser         250   \n",
       "2        10103   Sorvino  sorvi2000@gmail.com  castle lite         180   \n",
       "3        10104     Jones    jone.ai@yahoo.com  eagle lager         170   \n",
       "4        10105   Andrews       andy@gmail.com         hero         150   \n",
       "...        ...       ...                  ...          ...         ...   \n",
       "1042     11143   Jardine       jard@gmail.com   grand malt          90   \n",
       "1043     11144   Jardine       jard@gmail.com       trophy         150   \n",
       "1044     11145   Andrews       andy@gmail.com    budweiser         250   \n",
       "1045     11146     Jones    jone.ai@yahoo.com  castle lite         180   \n",
       "1046     11147    Morgan   morganny@gmail.com  eagle lager         170   \n",
       "\n",
       "      UNIT_PRICE  QUANTITY    COST  PROFIT COUNTRIES        REGION     MONTHS  \\\n",
       "0            200       725  145000   36250     Ghana      Southeast   January   \n",
       "1            500       815  407500  203750   Nigeria           west  February   \n",
       "2            450       937  421650  252990      Togo     southsouth     March   \n",
       "3            250       765  191250   61200     Benin      northwest     April   \n",
       "4            200       836  167200   41800   Senegal     northeast        May   \n",
       "...          ...       ...     ...     ...       ...            ...       ...   \n",
       "1042         150       962  144300   57720      Togo     northeast   November   \n",
       "1043         200       892  178400   44600     Benin  northcentral   December   \n",
       "1044         500       816  408000  204000   Senegal      Southeast   January   \n",
       "1045         450       939  422550  253530     Ghana           west  February   \n",
       "1046         250       935  233750   74800   Nigeria     southsouth     March   \n",
       "\n",
       "      YEARS  \n",
       "0      2019  \n",
       "1      2018  \n",
       "2      2018  \n",
       "3      2018  \n",
       "4      2017  \n",
       "...     ...  \n",
       "1042   2017  \n",
       "1043   2017  \n",
       "1044   2019  \n",
       "1045   2017  \n",
       "1046   2019  \n",
       "\n",
       "[1047 rows x 13 columns]"
      ]
     },
     "execution_count": 154,
     "metadata": {},
     "output_type": "execute_result"
    }
   ],
   "source": [
    "# Steps you take to clean your data set\n",
    "import numpy as np\n",
    "import pandas as pd\n",
    "import matplotlib.pyplot as plt\n",
    "%matplotlib inline\n",
    "import seaborn as sns\n",
    "import datetime as dt\n",
    "df = pd.read_csv(r\"C:\\Users\\Idong\\OneDrive - National Bureau of Statistics\\Desktop\\dataset\\brewery_data.csv\")\n",
    "df"
   ]
  },
  {
   "cell_type": "code",
   "execution_count": 155,
   "id": "81e2dee8-9f3e-48a8-8b48-1c1a9aaf8800",
   "metadata": {},
   "outputs": [
    {
     "name": "stdout",
     "output_type": "stream",
     "text": [
      "<class 'pandas.core.frame.DataFrame'>\n",
      "RangeIndex: 1047 entries, 0 to 1046\n",
      "Data columns (total 13 columns):\n",
      " #   Column      Non-Null Count  Dtype \n",
      "---  ------      --------------  ----- \n",
      " 0   SALES_ID    1047 non-null   int64 \n",
      " 1   SALES_REP   1047 non-null   object\n",
      " 2   EMAILS      1047 non-null   object\n",
      " 3   BRANDS      1047 non-null   object\n",
      " 4   PLANT_COST  1047 non-null   int64 \n",
      " 5   UNIT_PRICE  1047 non-null   int64 \n",
      " 6   QUANTITY    1047 non-null   int64 \n",
      " 7   COST        1047 non-null   int64 \n",
      " 8   PROFIT      1047 non-null   int64 \n",
      " 9   COUNTRIES   1047 non-null   object\n",
      " 10  REGION      1047 non-null   object\n",
      " 11  MONTHS      1047 non-null   object\n",
      " 12  YEARS       1047 non-null   int64 \n",
      "dtypes: int64(7), object(6)\n",
      "memory usage: 106.5+ KB\n"
     ]
    }
   ],
   "source": [
    "df.info()\n"
   ]
  },
  {
   "cell_type": "code",
   "execution_count": 156,
   "id": "1ec0bbfd-3061-4d79-a11f-e5632839b2c3",
   "metadata": {},
   "outputs": [
    {
     "data": {
      "text/plain": [
       "(1047, 13)"
      ]
     },
     "execution_count": 156,
     "metadata": {},
     "output_type": "execute_result"
    }
   ],
   "source": [
    "df.shape"
   ]
  },
  {
   "cell_type": "code",
   "execution_count": 157,
   "id": "c2c6dbdb-fa37-4aff-88d4-ffcdd4fdc3bc",
   "metadata": {},
   "outputs": [
    {
     "data": {
      "text/plain": [
       "Index(['SALES_ID', 'SALES_REP', 'EMAILS', 'BRANDS', 'PLANT_COST', 'UNIT_PRICE',\n",
       "       'QUANTITY', 'COST', 'PROFIT', 'COUNTRIES', 'REGION ', 'MONTHS',\n",
       "       'YEARS'],\n",
       "      dtype='object')"
      ]
     },
     "execution_count": 157,
     "metadata": {},
     "output_type": "execute_result"
    }
   ],
   "source": [
    "df.columns"
   ]
  },
  {
   "cell_type": "code",
   "execution_count": 158,
   "id": "fdf185fb-76ae-4b3f-9921-cd31e72260e2",
   "metadata": {},
   "outputs": [
    {
     "data": {
      "text/plain": [
       "(1047, 13)"
      ]
     },
     "execution_count": 158,
     "metadata": {},
     "output_type": "execute_result"
    }
   ],
   "source": [
    "df.drop_duplicates().shape"
   ]
  },
  {
   "cell_type": "code",
   "execution_count": 159,
   "id": "72a82888-4107-47a3-937f-19eddc2df0a2",
   "metadata": {
    "scrolled": true
   },
   "outputs": [
    {
     "data": {
      "text/plain": [
       "SALES_ID      0\n",
       "SALES_REP     0\n",
       "EMAILS        0\n",
       "BRANDS        0\n",
       "PLANT_COST    0\n",
       "UNIT_PRICE    0\n",
       "QUANTITY      0\n",
       "COST          0\n",
       "PROFIT        0\n",
       "COUNTRIES     0\n",
       "REGION        0\n",
       "MONTHS        0\n",
       "YEARS         0\n",
       "dtype: int64"
      ]
     },
     "execution_count": 159,
     "metadata": {},
     "output_type": "execute_result"
    }
   ],
   "source": [
    "df.isnull().sum()"
   ]
  },
  {
   "cell_type": "code",
   "execution_count": 160,
   "id": "b3cca30c-c1f0-473b-be22-cbc7b4858a99",
   "metadata": {},
   "outputs": [],
   "source": [
    "# Find the total profit of the brewery"
   ]
  },
  {
   "cell_type": "code",
   "execution_count": 161,
   "id": "7872e568-94db-4f43-ba70-b77b95126986",
   "metadata": {},
   "outputs": [
    {
     "data": {
      "text/plain": [
       "array(['Ghana', 'Nigeria', 'Togo', 'Benin', 'Senegal'], dtype=object)"
      ]
     },
     "execution_count": 161,
     "metadata": {},
     "output_type": "execute_result"
    }
   ],
   "source": [
    "df['COUNTRIES'].unique()"
   ]
  },
  {
   "cell_type": "code",
   "execution_count": 162,
   "id": "1ce5843f-5634-43e9-be33-dff533d9e018",
   "metadata": {},
   "outputs": [
    {
     "data": {
      "text/plain": [
       "array([2019, 2018, 2017], dtype=int64)"
      ]
     },
     "execution_count": 162,
     "metadata": {},
     "output_type": "execute_result"
    }
   ],
   "source": [
    "df['YEARS'].unique()"
   ]
  },
  {
   "cell_type": "code",
   "execution_count": 163,
   "id": "d4cb0eb2-14e4-4838-8b5e-7f0c251b8bf7",
   "metadata": {},
   "outputs": [],
   "source": [
    "total_profit=df['PROFIT'].sum()"
   ]
  },
  {
   "cell_type": "code",
   "execution_count": 164,
   "id": "a5fcd8a1-3b2b-4a5e-bca5-c904c0d42882",
   "metadata": {},
   "outputs": [
    {
     "data": {
      "text/plain": [
       "105587420"
      ]
     },
     "execution_count": 164,
     "metadata": {},
     "output_type": "execute_result"
    }
   ],
   "source": [
    "total_profit"
   ]
  },
  {
   "cell_type": "code",
   "execution_count": 165,
   "id": "79e9989d-280d-447c-9f82-a9a488375f18",
   "metadata": {},
   "outputs": [],
   "source": [
    "total_profit1 = df.PROFIT.sum()"
   ]
  },
  {
   "cell_type": "code",
   "execution_count": 166,
   "id": "68654931-3e3c-4db6-bbb5-5e49eecaf321",
   "metadata": {},
   "outputs": [
    {
     "data": {
      "text/plain": [
       "105587420"
      ]
     },
     "execution_count": 166,
     "metadata": {},
     "output_type": "execute_result"
    }
   ],
   "source": [
    "total_profit1"
   ]
  },
  {
   "cell_type": "code",
   "execution_count": 167,
   "id": "80b21562-85b8-4834-9f91-82c3488c4837",
   "metadata": {},
   "outputs": [],
   "source": [
    "df_2019=df[(df.YEARS==2019)]"
   ]
  },
  {
   "cell_type": "code",
   "execution_count": 168,
   "id": "caa30438-d873-4df6-bd90-a6e32c5d2ac7",
   "metadata": {},
   "outputs": [
    {
     "data": {
      "text/html": [
       "<div>\n",
       "<style scoped>\n",
       "    .dataframe tbody tr th:only-of-type {\n",
       "        vertical-align: middle;\n",
       "    }\n",
       "\n",
       "    .dataframe tbody tr th {\n",
       "        vertical-align: top;\n",
       "    }\n",
       "\n",
       "    .dataframe thead th {\n",
       "        text-align: right;\n",
       "    }\n",
       "</style>\n",
       "<table border=\"1\" class=\"dataframe\">\n",
       "  <thead>\n",
       "    <tr style=\"text-align: right;\">\n",
       "      <th></th>\n",
       "      <th>SALES_ID</th>\n",
       "      <th>SALES_REP</th>\n",
       "      <th>EMAILS</th>\n",
       "      <th>BRANDS</th>\n",
       "      <th>PLANT_COST</th>\n",
       "      <th>UNIT_PRICE</th>\n",
       "      <th>QUANTITY</th>\n",
       "      <th>COST</th>\n",
       "      <th>PROFIT</th>\n",
       "      <th>COUNTRIES</th>\n",
       "      <th>REGION</th>\n",
       "      <th>MONTHS</th>\n",
       "      <th>YEARS</th>\n",
       "    </tr>\n",
       "  </thead>\n",
       "  <tbody>\n",
       "    <tr>\n",
       "      <th>0</th>\n",
       "      <td>10101</td>\n",
       "      <td>Jardine</td>\n",
       "      <td>jard@gmail.com</td>\n",
       "      <td>trophy</td>\n",
       "      <td>150</td>\n",
       "      <td>200</td>\n",
       "      <td>725</td>\n",
       "      <td>145000</td>\n",
       "      <td>36250</td>\n",
       "      <td>Ghana</td>\n",
       "      <td>Southeast</td>\n",
       "      <td>January</td>\n",
       "      <td>2019</td>\n",
       "    </tr>\n",
       "    <tr>\n",
       "      <th>5</th>\n",
       "      <td>10106</td>\n",
       "      <td>Jardine</td>\n",
       "      <td>jard@gmail.com</td>\n",
       "      <td>beta malt</td>\n",
       "      <td>80</td>\n",
       "      <td>150</td>\n",
       "      <td>798</td>\n",
       "      <td>119700</td>\n",
       "      <td>55860</td>\n",
       "      <td>Ghana</td>\n",
       "      <td>northcentral</td>\n",
       "      <td>June</td>\n",
       "      <td>2019</td>\n",
       "    </tr>\n",
       "    <tr>\n",
       "      <th>8</th>\n",
       "      <td>10109</td>\n",
       "      <td>Morgan</td>\n",
       "      <td>morganny@gmail.com</td>\n",
       "      <td>budweiser</td>\n",
       "      <td>250</td>\n",
       "      <td>500</td>\n",
       "      <td>700</td>\n",
       "      <td>350000</td>\n",
       "      <td>175000</td>\n",
       "      <td>Benin</td>\n",
       "      <td>southsouth</td>\n",
       "      <td>September</td>\n",
       "      <td>2019</td>\n",
       "    </tr>\n",
       "    <tr>\n",
       "      <th>11</th>\n",
       "      <td>10112</td>\n",
       "      <td>Jones</td>\n",
       "      <td>jone.ai@yahoo.com</td>\n",
       "      <td>hero</td>\n",
       "      <td>150</td>\n",
       "      <td>200</td>\n",
       "      <td>902</td>\n",
       "      <td>180400</td>\n",
       "      <td>45100</td>\n",
       "      <td>Nigeria</td>\n",
       "      <td>northcentral</td>\n",
       "      <td>December</td>\n",
       "      <td>2019</td>\n",
       "    </tr>\n",
       "    <tr>\n",
       "      <th>15</th>\n",
       "      <td>10116</td>\n",
       "      <td>Jones</td>\n",
       "      <td>jone.ai@yahoo.com</td>\n",
       "      <td>budweiser</td>\n",
       "      <td>250</td>\n",
       "      <td>500</td>\n",
       "      <td>709</td>\n",
       "      <td>354500</td>\n",
       "      <td>177250</td>\n",
       "      <td>Ghana</td>\n",
       "      <td>northwest</td>\n",
       "      <td>April</td>\n",
       "      <td>2019</td>\n",
       "    </tr>\n",
       "  </tbody>\n",
       "</table>\n",
       "</div>"
      ],
      "text/plain": [
       "    SALES_ID SALES_REP              EMAILS     BRANDS  PLANT_COST  UNIT_PRICE  \\\n",
       "0      10101   Jardine      jard@gmail.com     trophy         150         200   \n",
       "5      10106   Jardine      jard@gmail.com  beta malt          80         150   \n",
       "8      10109    Morgan  morganny@gmail.com  budweiser         250         500   \n",
       "11     10112     Jones   jone.ai@yahoo.com       hero         150         200   \n",
       "15     10116     Jones   jone.ai@yahoo.com  budweiser         250         500   \n",
       "\n",
       "    QUANTITY    COST  PROFIT COUNTRIES        REGION      MONTHS  YEARS  \n",
       "0        725  145000   36250     Ghana      Southeast    January   2019  \n",
       "5        798  119700   55860     Ghana  northcentral        June   2019  \n",
       "8        700  350000  175000     Benin     southsouth  September   2019  \n",
       "11       902  180400   45100   Nigeria  northcentral    December   2019  \n",
       "15       709  354500  177250     Ghana      northwest      April   2019  "
      ]
     },
     "execution_count": 168,
     "metadata": {},
     "output_type": "execute_result"
    }
   ],
   "source": [
    "df_2019.head()"
   ]
  },
  {
   "cell_type": "code",
   "execution_count": 169,
   "id": "06a37aa7-aa0d-47ba-a7df-0e2fc216814d",
   "metadata": {},
   "outputs": [],
   "source": [
    "df_countries_highest_profit_2019=df_2019.groupby('COUNTRIES')['PROFIT'].sum().sort_values(ascending=False)"
   ]
  },
  {
   "cell_type": "code",
   "execution_count": 170,
   "id": "c84a512d-e3aa-43b6-811b-af0202d6020f",
   "metadata": {},
   "outputs": [
    {
     "data": {
      "text/plain": [
       "COUNTRIES\n",
       "Ghana      7144070\n",
       "Senegal    6687560\n",
       "Togo       6109960\n",
       "Benin      5273340\n",
       "Nigeria    4805320\n",
       "Name: PROFIT, dtype: int64"
      ]
     },
     "execution_count": 170,
     "metadata": {},
     "output_type": "execute_result"
    }
   ],
   "source": [
    "df_countries_highest_profit_2019"
   ]
  },
  {
   "cell_type": "code",
   "execution_count": 171,
   "id": "420247d8-43dc-4334-8c4d-06b038728b28",
   "metadata": {},
   "outputs": [],
   "source": [
    "df_countries_highest_profit_2019s=df_countries_highest_profit_2019.reset_index()"
   ]
  },
  {
   "cell_type": "code",
   "execution_count": 172,
   "id": "28c7d407-ed5e-4029-873f-3e50037d9ae4",
   "metadata": {},
   "outputs": [
    {
     "data": {
      "text/plain": [
       "<Axes: title={'center': 'COUNTRIES vs PROFIT'}, xlabel='COUNTRIES'>"
      ]
     },
     "execution_count": 172,
     "metadata": {},
     "output_type": "execute_result"
    },
    {
     "data": {
      "image/png": "[encoded data removed]",
      "text/plain": [
       "<Figure size 640x480 with 1 Axes>"
      ]
     },
     "metadata": {},
     "output_type": "display_data"
    }
   ],
   "source": [
    "df_countries_highest_profit_2019s.plot(x='COUNTRIES',y='PROFIT',title='COUNTRIES vs PROFIT',kind = 'bar', color='green')"
   ]
  },
  {
   "cell_type": "code",
   "execution_count": 173,
   "id": "70dddaef-e146-47bf-91d6-eb742e498e58",
   "metadata": {},
   "outputs": [
    {
     "data": {
      "text/plain": [
       "<Axes: title={'center': 'COUNTRIES vs PROFIT'}, xlabel='COUNTRIES', ylabel='PROFIT'>"
      ]
     },
     "execution_count": 173,
     "metadata": {},
     "output_type": "execute_result"
    },
    {
     "data": {
      "image/png": "[encoded data removed]",
      "text/plain": [
       "<Figure size 640x480 with 1 Axes>"
      ]
     },
     "metadata": {},
     "output_type": "display_data"
    }
   ],
   "source": [
    "# Using seaborn\n",
    "plt.title('COUNTRIES vs PROFIT')\n",
    "sns.barplot(data=df_countries_highest_profit_2019s,x='COUNTRIES',y='PROFIT')"
   ]
  },
  {
   "cell_type": "code",
   "execution_count": 174,
   "id": "fc489cd2-eb35-483a-81b0-c194e720718b",
   "metadata": {},
   "outputs": [
    {
     "data": {
      "text/plain": [
       "<Axes: title={'center': 'COUNTRIES vs PROFIT'}, ylabel='PROFIT'>"
      ]
     },
     "execution_count": 174,
     "metadata": {},
     "output_type": "execute_result"
    },
    {
     "data": {
      "image/png": "[encoded data removed]",
      "text/plain": [
       "<Figure size 640x480 with 1 Axes>"
      ]
     },
     "metadata": {},
     "output_type": "display_data"
    }
   ],
   "source": [
    "df_countries_highest_profit_2019.plot(kind='pie',x='COUNTRIES',y='PROFIT',title='COUNTRIES vs PROFIT')"
   ]
  },
  {
   "cell_type": "code",
   "execution_count": 177,
   "id": "760bfd7e-8741-47e7-b622-1de3bf90e01e",
   "metadata": {},
   "outputs": [
    {
     "data": {
      "text/plain": [
       "<Axes: title={'center': 'COUNTRIES vs PROFIT'}, ylabel='PROFIT'>"
      ]
     },
     "execution_count": 177,
     "metadata": {},
     "output_type": "execute_result"
    },
    {
     "data": {
      "image/png": "[encoded data removed]",
      "text/plain": [
       "<Figure size 640x480 with 1 Axes>"
      ]
     },
     "metadata": {},
     "output_type": "display_data"
    }
   ],
   "source": [
    "df_countries_highest_profit_2019.plot(kind='pie',x='COUNTRIES',y='PROFIT',title='COUNTRIES vs PROFIT',autopct='%1.1f%%')"
   ]
  },
  {
   "cell_type": "code",
   "execution_count": 178,
   "id": "bed0e8de-b061-43c2-a62e-47fe8f1dfe06",
   "metadata": {},
   "outputs": [],
   "source": [
    "countries_highest_profit=df.groupby('COUNTRIES')['PROFIT'].sum().sort_values(ascending=False)"
   ]
  },
  {
   "cell_type": "code",
   "execution_count": 179,
   "id": "63c64cc5-854e-4ed2-8d1e-3fd0bc46c6d5",
   "metadata": {},
   "outputs": [
    {
     "data": {
      "text/plain": [
       "COUNTRIES\n",
       "Senegal    21485190\n",
       "Nigeria    21376210\n",
       "Ghana      21013050\n",
       "Benin      20961970\n",
       "Togo       20751000\n",
       "Name: PROFIT, dtype: int64"
      ]
     },
     "execution_count": 179,
     "metadata": {},
     "output_type": "execute_result"
    }
   ],
   "source": [
    "countries_highest_profit"
   ]
  },
  {
   "cell_type": "code",
   "execution_count": 180,
   "id": "dcb3feb2-ba78-4005-b4c5-03446bccb887",
   "metadata": {},
   "outputs": [],
   "source": [
    "year_highest_profit=df.groupby('YEARS')['PROFIT'].sum().sort_values(ascending=False)"
   ]
  },
  {
   "cell_type": "code",
   "execution_count": 181,
   "id": "f138f397-3a9d-4b68-8c6c-a61458e0393d",
   "metadata": {},
   "outputs": [
    {
     "data": {
      "text/plain": [
       "YEARS\n",
       "2017    38503320\n",
       "2018    37063850\n",
       "2019    30020250\n",
       "Name: PROFIT, dtype: int64"
      ]
     },
     "execution_count": 181,
     "metadata": {},
     "output_type": "execute_result"
    }
   ],
   "source": [
    "year_highest_profit"
   ]
  },
  {
   "cell_type": "code",
   "execution_count": 182,
   "id": "e0ee9daf-8492-49a4-9a1a-778eddf48b97",
   "metadata": {},
   "outputs": [
    {
     "data": {
      "text/plain": [
       "MONTHS\n",
       "April        8573830\n",
       "September    8702660\n",
       "January      8722990\n",
       "August       8730940\n",
       "October      8767100\n",
       "May          8772250\n",
       "July         8787010\n",
       "December     8787290\n",
       "November     8820330\n",
       "June         8828440\n",
       "February     9028450\n",
       "March        9066130\n",
       "Name: PROFIT, dtype: int64"
      ]
     },
     "execution_count": 182,
     "metadata": {},
     "output_type": "execute_result"
    }
   ],
   "source": [
    "least_profit=df.groupby('MONTHS')['PROFIT'].sum().sort_values(ascending=True)\n",
    "least_profit"
   ]
  },
  {
   "cell_type": "code",
   "execution_count": 183,
   "id": "3951bf48-5199-41f3-a671-b8e56e123a1f",
   "metadata": {},
   "outputs": [
    {
     "data": {
      "text/plain": [
       "MONTHS\n",
       "April    8573830\n",
       "Name: PROFIT, dtype: int64"
      ]
     },
     "execution_count": 183,
     "metadata": {},
     "output_type": "execute_result"
    }
   ],
   "source": [
    "least_profit.head(1)"
   ]
  },
  {
   "cell_type": "code",
   "execution_count": 184,
   "id": "e3e28d4e-2f77-4756-aff5-5c09ab57da3f",
   "metadata": {},
   "outputs": [],
   "source": [
    "df_2018=df[(df.YEARS==2018) & (df.MONTHS=='December')]"
   ]
  },
  {
   "cell_type": "code",
   "execution_count": 185,
   "id": "8a0ed4b5-f13f-4d1c-a908-b90bf73770c7",
   "metadata": {},
   "outputs": [
    {
     "data": {
      "text/html": [
       "<div>\n",
       "<style scoped>\n",
       "    .dataframe tbody tr th:only-of-type {\n",
       "        vertical-align: middle;\n",
       "    }\n",
       "\n",
       "    .dataframe tbody tr th {\n",
       "        vertical-align: top;\n",
       "    }\n",
       "\n",
       "    .dataframe thead th {\n",
       "        text-align: right;\n",
       "    }\n",
       "</style>\n",
       "<table border=\"1\" class=\"dataframe\">\n",
       "  <thead>\n",
       "    <tr style=\"text-align: right;\">\n",
       "      <th></th>\n",
       "      <th>SALES_ID</th>\n",
       "      <th>SALES_REP</th>\n",
       "      <th>EMAILS</th>\n",
       "      <th>BRANDS</th>\n",
       "      <th>PLANT_COST</th>\n",
       "      <th>UNIT_PRICE</th>\n",
       "      <th>QUANTITY</th>\n",
       "      <th>COST</th>\n",
       "      <th>PROFIT</th>\n",
       "      <th>COUNTRIES</th>\n",
       "      <th>REGION</th>\n",
       "      <th>MONTHS</th>\n",
       "      <th>YEARS</th>\n",
       "    </tr>\n",
       "  </thead>\n",
       "  <tbody>\n",
       "    <tr>\n",
       "      <th>71</th>\n",
       "      <td>10172</td>\n",
       "      <td>Jones</td>\n",
       "      <td>jone.ai@yahoo.com</td>\n",
       "      <td>budweiser</td>\n",
       "      <td>250</td>\n",
       "      <td>500</td>\n",
       "      <td>869</td>\n",
       "      <td>434500</td>\n",
       "      <td>217250</td>\n",
       "      <td>Nigeria</td>\n",
       "      <td>northcentral</td>\n",
       "      <td>December</td>\n",
       "      <td>2018</td>\n",
       "    </tr>\n",
       "    <tr>\n",
       "      <th>95</th>\n",
       "      <td>10196</td>\n",
       "      <td>Sorvino</td>\n",
       "      <td>sorvi2000@gmail.com</td>\n",
       "      <td>hero</td>\n",
       "      <td>150</td>\n",
       "      <td>200</td>\n",
       "      <td>959</td>\n",
       "      <td>191800</td>\n",
       "      <td>47950</td>\n",
       "      <td>Ghana</td>\n",
       "      <td>northcentral</td>\n",
       "      <td>December</td>\n",
       "      <td>2018</td>\n",
       "    </tr>\n",
       "    <tr>\n",
       "      <th>107</th>\n",
       "      <td>10208</td>\n",
       "      <td>Jardine</td>\n",
       "      <td>jard@gmail.com</td>\n",
       "      <td>castle lite</td>\n",
       "      <td>180</td>\n",
       "      <td>450</td>\n",
       "      <td>878</td>\n",
       "      <td>395100</td>\n",
       "      <td>237060</td>\n",
       "      <td>Togo</td>\n",
       "      <td>northcentral</td>\n",
       "      <td>December</td>\n",
       "      <td>2018</td>\n",
       "    </tr>\n",
       "    <tr>\n",
       "      <th>179</th>\n",
       "      <td>10280</td>\n",
       "      <td>Morgan</td>\n",
       "      <td>morganny@gmail.com</td>\n",
       "      <td>hero</td>\n",
       "      <td>150</td>\n",
       "      <td>200</td>\n",
       "      <td>777</td>\n",
       "      <td>155400</td>\n",
       "      <td>38850</td>\n",
       "      <td>Senegal</td>\n",
       "      <td>northcentral</td>\n",
       "      <td>December</td>\n",
       "      <td>2018</td>\n",
       "    </tr>\n",
       "    <tr>\n",
       "      <th>191</th>\n",
       "      <td>10292</td>\n",
       "      <td>Kivell</td>\n",
       "      <td>kivel_go@yahoo.com</td>\n",
       "      <td>castle lite</td>\n",
       "      <td>180</td>\n",
       "      <td>450</td>\n",
       "      <td>840</td>\n",
       "      <td>378000</td>\n",
       "      <td>226800</td>\n",
       "      <td>Nigeria</td>\n",
       "      <td>northcentral</td>\n",
       "      <td>December</td>\n",
       "      <td>2018</td>\n",
       "    </tr>\n",
       "    <tr>\n",
       "      <th>203</th>\n",
       "      <td>10304</td>\n",
       "      <td>Jones</td>\n",
       "      <td>jone.ai@yahoo.com</td>\n",
       "      <td>trophy</td>\n",
       "      <td>150</td>\n",
       "      <td>200</td>\n",
       "      <td>764</td>\n",
       "      <td>152800</td>\n",
       "      <td>38200</td>\n",
       "      <td>Benin</td>\n",
       "      <td>northcentral</td>\n",
       "      <td>December</td>\n",
       "      <td>2018</td>\n",
       "    </tr>\n",
       "    <tr>\n",
       "      <th>239</th>\n",
       "      <td>10340</td>\n",
       "      <td>Andrews</td>\n",
       "      <td>andy@gmail.com</td>\n",
       "      <td>budweiser</td>\n",
       "      <td>250</td>\n",
       "      <td>500</td>\n",
       "      <td>882</td>\n",
       "      <td>441000</td>\n",
       "      <td>220500</td>\n",
       "      <td>Senegal</td>\n",
       "      <td>northcentral</td>\n",
       "      <td>December</td>\n",
       "      <td>2018</td>\n",
       "    </tr>\n",
       "    <tr>\n",
       "      <th>287</th>\n",
       "      <td>10388</td>\n",
       "      <td>Kivell</td>\n",
       "      <td>kivel_go@yahoo.com</td>\n",
       "      <td>trophy</td>\n",
       "      <td>150</td>\n",
       "      <td>200</td>\n",
       "      <td>962</td>\n",
       "      <td>192400</td>\n",
       "      <td>48100</td>\n",
       "      <td>Togo</td>\n",
       "      <td>northcentral</td>\n",
       "      <td>December</td>\n",
       "      <td>2018</td>\n",
       "    </tr>\n",
       "    <tr>\n",
       "      <th>299</th>\n",
       "      <td>10400</td>\n",
       "      <td>Sorvino</td>\n",
       "      <td>sorvi2000@gmail.com</td>\n",
       "      <td>beta malt</td>\n",
       "      <td>80</td>\n",
       "      <td>150</td>\n",
       "      <td>784</td>\n",
       "      <td>117600</td>\n",
       "      <td>54880</td>\n",
       "      <td>Senegal</td>\n",
       "      <td>northcentral</td>\n",
       "      <td>December</td>\n",
       "      <td>2018</td>\n",
       "    </tr>\n",
       "    <tr>\n",
       "      <th>335</th>\n",
       "      <td>10436</td>\n",
       "      <td>Morgan</td>\n",
       "      <td>morganny@gmail.com</td>\n",
       "      <td>grand malt</td>\n",
       "      <td>90</td>\n",
       "      <td>150</td>\n",
       "      <td>761</td>\n",
       "      <td>114150</td>\n",
       "      <td>45660</td>\n",
       "      <td>Ghana</td>\n",
       "      <td>northcentral</td>\n",
       "      <td>December</td>\n",
       "      <td>2018</td>\n",
       "    </tr>\n",
       "    <tr>\n",
       "      <th>359</th>\n",
       "      <td>10460</td>\n",
       "      <td>Jardine</td>\n",
       "      <td>jard@gmail.com</td>\n",
       "      <td>castle lite</td>\n",
       "      <td>180</td>\n",
       "      <td>450</td>\n",
       "      <td>791</td>\n",
       "      <td>355950</td>\n",
       "      <td>213570</td>\n",
       "      <td>Senegal</td>\n",
       "      <td>northcentral</td>\n",
       "      <td>December</td>\n",
       "      <td>2018</td>\n",
       "    </tr>\n",
       "    <tr>\n",
       "      <th>407</th>\n",
       "      <td>10508</td>\n",
       "      <td>Gill</td>\n",
       "      <td>gillhell@uk.com</td>\n",
       "      <td>budweiser</td>\n",
       "      <td>250</td>\n",
       "      <td>500</td>\n",
       "      <td>906</td>\n",
       "      <td>453000</td>\n",
       "      <td>226500</td>\n",
       "      <td>Togo</td>\n",
       "      <td>northcentral</td>\n",
       "      <td>December</td>\n",
       "      <td>2018</td>\n",
       "    </tr>\n",
       "    <tr>\n",
       "      <th>443</th>\n",
       "      <td>10544</td>\n",
       "      <td>Jones</td>\n",
       "      <td>jone.ai@yahoo.com</td>\n",
       "      <td>castle lite</td>\n",
       "      <td>180</td>\n",
       "      <td>450</td>\n",
       "      <td>898</td>\n",
       "      <td>404100</td>\n",
       "      <td>242460</td>\n",
       "      <td>Benin</td>\n",
       "      <td>northcentral</td>\n",
       "      <td>December</td>\n",
       "      <td>2018</td>\n",
       "    </tr>\n",
       "    <tr>\n",
       "      <th>467</th>\n",
       "      <td>10568</td>\n",
       "      <td>Jardine</td>\n",
       "      <td>jard@gmail.com</td>\n",
       "      <td>beta malt</td>\n",
       "      <td>80</td>\n",
       "      <td>150</td>\n",
       "      <td>709</td>\n",
       "      <td>106350</td>\n",
       "      <td>49630</td>\n",
       "      <td>Togo</td>\n",
       "      <td>northcentral</td>\n",
       "      <td>December</td>\n",
       "      <td>2018</td>\n",
       "    </tr>\n",
       "    <tr>\n",
       "      <th>479</th>\n",
       "      <td>10580</td>\n",
       "      <td>Parent</td>\n",
       "      <td>parentty@uk.com</td>\n",
       "      <td>eagle lager</td>\n",
       "      <td>170</td>\n",
       "      <td>250</td>\n",
       "      <td>930</td>\n",
       "      <td>232500</td>\n",
       "      <td>74400</td>\n",
       "      <td>Senegal</td>\n",
       "      <td>northcentral</td>\n",
       "      <td>December</td>\n",
       "      <td>2018</td>\n",
       "    </tr>\n",
       "    <tr>\n",
       "      <th>491</th>\n",
       "      <td>10592</td>\n",
       "      <td>Jones</td>\n",
       "      <td>jone.ai@yahoo.com</td>\n",
       "      <td>budweiser</td>\n",
       "      <td>250</td>\n",
       "      <td>500</td>\n",
       "      <td>934</td>\n",
       "      <td>467000</td>\n",
       "      <td>233500</td>\n",
       "      <td>Nigeria</td>\n",
       "      <td>northcentral</td>\n",
       "      <td>December</td>\n",
       "      <td>2018</td>\n",
       "    </tr>\n",
       "    <tr>\n",
       "      <th>503</th>\n",
       "      <td>10604</td>\n",
       "      <td>Gill</td>\n",
       "      <td>gillhell@uk.com</td>\n",
       "      <td>grand malt</td>\n",
       "      <td>90</td>\n",
       "      <td>150</td>\n",
       "      <td>702</td>\n",
       "      <td>105300</td>\n",
       "      <td>42120</td>\n",
       "      <td>Benin</td>\n",
       "      <td>northcentral</td>\n",
       "      <td>December</td>\n",
       "      <td>2018</td>\n",
       "    </tr>\n",
       "    <tr>\n",
       "      <th>551</th>\n",
       "      <td>10652</td>\n",
       "      <td>Parent</td>\n",
       "      <td>parentty@uk.com</td>\n",
       "      <td>beta malt</td>\n",
       "      <td>80</td>\n",
       "      <td>150</td>\n",
       "      <td>750</td>\n",
       "      <td>112500</td>\n",
       "      <td>52500</td>\n",
       "      <td>Nigeria</td>\n",
       "      <td>northcentral</td>\n",
       "      <td>December</td>\n",
       "      <td>2018</td>\n",
       "    </tr>\n",
       "    <tr>\n",
       "      <th>587</th>\n",
       "      <td>10688</td>\n",
       "      <td>Jones</td>\n",
       "      <td>jone.ai@yahoo.com</td>\n",
       "      <td>grand malt</td>\n",
       "      <td>90</td>\n",
       "      <td>150</td>\n",
       "      <td>784</td>\n",
       "      <td>117600</td>\n",
       "      <td>47040</td>\n",
       "      <td>Togo</td>\n",
       "      <td>northcentral</td>\n",
       "      <td>December</td>\n",
       "      <td>2018</td>\n",
       "    </tr>\n",
       "    <tr>\n",
       "      <th>611</th>\n",
       "      <td>10712</td>\n",
       "      <td>Sorvino</td>\n",
       "      <td>sorvi2000@gmail.com</td>\n",
       "      <td>castle lite</td>\n",
       "      <td>180</td>\n",
       "      <td>450</td>\n",
       "      <td>807</td>\n",
       "      <td>363150</td>\n",
       "      <td>217890</td>\n",
       "      <td>Nigeria</td>\n",
       "      <td>northcentral</td>\n",
       "      <td>December</td>\n",
       "      <td>2018</td>\n",
       "    </tr>\n",
       "    <tr>\n",
       "      <th>635</th>\n",
       "      <td>10736</td>\n",
       "      <td>Jones</td>\n",
       "      <td>jone.ai@yahoo.com</td>\n",
       "      <td>beta malt</td>\n",
       "      <td>80</td>\n",
       "      <td>150</td>\n",
       "      <td>995</td>\n",
       "      <td>149250</td>\n",
       "      <td>69650</td>\n",
       "      <td>Ghana</td>\n",
       "      <td>northcentral</td>\n",
       "      <td>December</td>\n",
       "      <td>2018</td>\n",
       "    </tr>\n",
       "    <tr>\n",
       "      <th>647</th>\n",
       "      <td>10748</td>\n",
       "      <td>Jardine</td>\n",
       "      <td>jard@gmail.com</td>\n",
       "      <td>eagle lager</td>\n",
       "      <td>170</td>\n",
       "      <td>250</td>\n",
       "      <td>702</td>\n",
       "      <td>175500</td>\n",
       "      <td>56160</td>\n",
       "      <td>Togo</td>\n",
       "      <td>northcentral</td>\n",
       "      <td>December</td>\n",
       "      <td>2018</td>\n",
       "    </tr>\n",
       "    <tr>\n",
       "      <th>683</th>\n",
       "      <td>10784</td>\n",
       "      <td>Jardine</td>\n",
       "      <td>jard@gmail.com</td>\n",
       "      <td>hero</td>\n",
       "      <td>150</td>\n",
       "      <td>200</td>\n",
       "      <td>864</td>\n",
       "      <td>172800</td>\n",
       "      <td>43200</td>\n",
       "      <td>Benin</td>\n",
       "      <td>northcentral</td>\n",
       "      <td>December</td>\n",
       "      <td>2018</td>\n",
       "    </tr>\n",
       "    <tr>\n",
       "      <th>743</th>\n",
       "      <td>10844</td>\n",
       "      <td>Morgan</td>\n",
       "      <td>morganny@gmail.com</td>\n",
       "      <td>budweiser</td>\n",
       "      <td>250</td>\n",
       "      <td>500</td>\n",
       "      <td>891</td>\n",
       "      <td>445500</td>\n",
       "      <td>222750</td>\n",
       "      <td>Benin</td>\n",
       "      <td>northcentral</td>\n",
       "      <td>December</td>\n",
       "      <td>2018</td>\n",
       "    </tr>\n",
       "    <tr>\n",
       "      <th>803</th>\n",
       "      <td>10904</td>\n",
       "      <td>Jones</td>\n",
       "      <td>jone.ai@yahoo.com</td>\n",
       "      <td>beta malt</td>\n",
       "      <td>80</td>\n",
       "      <td>150</td>\n",
       "      <td>864</td>\n",
       "      <td>129600</td>\n",
       "      <td>60480</td>\n",
       "      <td>Benin</td>\n",
       "      <td>northcentral</td>\n",
       "      <td>December</td>\n",
       "      <td>2018</td>\n",
       "    </tr>\n",
       "    <tr>\n",
       "      <th>923</th>\n",
       "      <td>11024</td>\n",
       "      <td>Howard</td>\n",
       "      <td>howard_freeman@yahoo.com</td>\n",
       "      <td>grand malt</td>\n",
       "      <td>90</td>\n",
       "      <td>150</td>\n",
       "      <td>818</td>\n",
       "      <td>122700</td>\n",
       "      <td>49080</td>\n",
       "      <td>Benin</td>\n",
       "      <td>northcentral</td>\n",
       "      <td>December</td>\n",
       "      <td>2018</td>\n",
       "    </tr>\n",
       "    <tr>\n",
       "      <th>947</th>\n",
       "      <td>11048</td>\n",
       "      <td>Jardine</td>\n",
       "      <td>jard@gmail.com</td>\n",
       "      <td>castle lite</td>\n",
       "      <td>180</td>\n",
       "      <td>450</td>\n",
       "      <td>859</td>\n",
       "      <td>386550</td>\n",
       "      <td>231930</td>\n",
       "      <td>Togo</td>\n",
       "      <td>northcentral</td>\n",
       "      <td>December</td>\n",
       "      <td>2018</td>\n",
       "    </tr>\n",
       "    <tr>\n",
       "      <th>971</th>\n",
       "      <td>11072</td>\n",
       "      <td>Morgan</td>\n",
       "      <td>morganny@gmail.com</td>\n",
       "      <td>beta malt</td>\n",
       "      <td>80</td>\n",
       "      <td>150</td>\n",
       "      <td>832</td>\n",
       "      <td>124800</td>\n",
       "      <td>58240</td>\n",
       "      <td>Nigeria</td>\n",
       "      <td>northcentral</td>\n",
       "      <td>December</td>\n",
       "      <td>2018</td>\n",
       "    </tr>\n",
       "    <tr>\n",
       "      <th>995</th>\n",
       "      <td>11096</td>\n",
       "      <td>Kivell</td>\n",
       "      <td>kivel_go@yahoo.com</td>\n",
       "      <td>budweiser</td>\n",
       "      <td>250</td>\n",
       "      <td>500</td>\n",
       "      <td>995</td>\n",
       "      <td>497500</td>\n",
       "      <td>248750</td>\n",
       "      <td>Ghana</td>\n",
       "      <td>northcentral</td>\n",
       "      <td>December</td>\n",
       "      <td>2018</td>\n",
       "    </tr>\n",
       "    <tr>\n",
       "      <th>1007</th>\n",
       "      <td>11108</td>\n",
       "      <td>Jones</td>\n",
       "      <td>jone.ai@yahoo.com</td>\n",
       "      <td>grand malt</td>\n",
       "      <td>90</td>\n",
       "      <td>150</td>\n",
       "      <td>904</td>\n",
       "      <td>135600</td>\n",
       "      <td>54240</td>\n",
       "      <td>Togo</td>\n",
       "      <td>northcentral</td>\n",
       "      <td>December</td>\n",
       "      <td>2018</td>\n",
       "    </tr>\n",
       "    <tr>\n",
       "      <th>1019</th>\n",
       "      <td>11120</td>\n",
       "      <td>Jones</td>\n",
       "      <td>jone.ai@yahoo.com</td>\n",
       "      <td>hero</td>\n",
       "      <td>150</td>\n",
       "      <td>200</td>\n",
       "      <td>763</td>\n",
       "      <td>152600</td>\n",
       "      <td>38150</td>\n",
       "      <td>Senegal</td>\n",
       "      <td>northcentral</td>\n",
       "      <td>December</td>\n",
       "      <td>2018</td>\n",
       "    </tr>\n",
       "    <tr>\n",
       "      <th>1031</th>\n",
       "      <td>11132</td>\n",
       "      <td>Gill</td>\n",
       "      <td>gillhell@uk.com</td>\n",
       "      <td>castle lite</td>\n",
       "      <td>180</td>\n",
       "      <td>450</td>\n",
       "      <td>721</td>\n",
       "      <td>324450</td>\n",
       "      <td>194670</td>\n",
       "      <td>Nigeria</td>\n",
       "      <td>northcentral</td>\n",
       "      <td>December</td>\n",
       "      <td>2018</td>\n",
       "    </tr>\n",
       "  </tbody>\n",
       "</table>\n",
       "</div>"
      ],
      "text/plain": [
       "      SALES_ID SALES_REP                    EMAILS       BRANDS  PLANT_COST  \\\n",
       "71       10172     Jones         jone.ai@yahoo.com    budweiser         250   \n",
       "95       10196   Sorvino       sorvi2000@gmail.com         hero         150   \n",
       "107      10208   Jardine            jard@gmail.com  castle lite         180   \n",
       "179      10280    Morgan        morganny@gmail.com         hero         150   \n",
       "191      10292    Kivell        kivel_go@yahoo.com  castle lite         180   \n",
       "203      10304     Jones         jone.ai@yahoo.com       trophy         150   \n",
       "239      10340   Andrews            andy@gmail.com    budweiser         250   \n",
       "287      10388    Kivell        kivel_go@yahoo.com       trophy         150   \n",
       "299      10400   Sorvino       sorvi2000@gmail.com    beta malt          80   \n",
       "335      10436    Morgan        morganny@gmail.com   grand malt          90   \n",
       "359      10460   Jardine            jard@gmail.com  castle lite         180   \n",
       "407      10508      Gill           gillhell@uk.com    budweiser         250   \n",
       "443      10544     Jones         jone.ai@yahoo.com  castle lite         180   \n",
       "467      10568   Jardine            jard@gmail.com    beta malt          80   \n",
       "479      10580    Parent           parentty@uk.com  eagle lager         170   \n",
       "491      10592     Jones         jone.ai@yahoo.com    budweiser         250   \n",
       "503      10604      Gill           gillhell@uk.com   grand malt          90   \n",
       "551      10652    Parent           parentty@uk.com    beta malt          80   \n",
       "587      10688     Jones         jone.ai@yahoo.com   grand malt          90   \n",
       "611      10712   Sorvino       sorvi2000@gmail.com  castle lite         180   \n",
       "635      10736     Jones         jone.ai@yahoo.com    beta malt          80   \n",
       "647      10748   Jardine            jard@gmail.com  eagle lager         170   \n",
       "683      10784   Jardine            jard@gmail.com         hero         150   \n",
       "743      10844    Morgan        morganny@gmail.com    budweiser         250   \n",
       "803      10904     Jones         jone.ai@yahoo.com    beta malt          80   \n",
       "923      11024    Howard  howard_freeman@yahoo.com   grand malt          90   \n",
       "947      11048   Jardine            jard@gmail.com  castle lite         180   \n",
       "971      11072    Morgan        morganny@gmail.com    beta malt          80   \n",
       "995      11096    Kivell        kivel_go@yahoo.com    budweiser         250   \n",
       "1007     11108     Jones         jone.ai@yahoo.com   grand malt          90   \n",
       "1019     11120     Jones         jone.ai@yahoo.com         hero         150   \n",
       "1031     11132      Gill           gillhell@uk.com  castle lite         180   \n",
       "\n",
       "      UNIT_PRICE  QUANTITY    COST  PROFIT COUNTRIES        REGION     MONTHS  \\\n",
       "71           500       869  434500  217250   Nigeria  northcentral   December   \n",
       "95           200       959  191800   47950     Ghana  northcentral   December   \n",
       "107          450       878  395100  237060      Togo  northcentral   December   \n",
       "179          200       777  155400   38850   Senegal  northcentral   December   \n",
       "191          450       840  378000  226800   Nigeria  northcentral   December   \n",
       "203          200       764  152800   38200     Benin  northcentral   December   \n",
       "239          500       882  441000  220500   Senegal  northcentral   December   \n",
       "287          200       962  192400   48100      Togo  northcentral   December   \n",
       "299          150       784  117600   54880   Senegal  northcentral   December   \n",
       "335          150       761  114150   45660     Ghana  northcentral   December   \n",
       "359          450       791  355950  213570   Senegal  northcentral   December   \n",
       "407          500       906  453000  226500      Togo  northcentral   December   \n",
       "443          450       898  404100  242460     Benin  northcentral   December   \n",
       "467          150       709  106350   49630      Togo  northcentral   December   \n",
       "479          250       930  232500   74400   Senegal  northcentral   December   \n",
       "491          500       934  467000  233500   Nigeria  northcentral   December   \n",
       "503          150       702  105300   42120     Benin  northcentral   December   \n",
       "551          150       750  112500   52500   Nigeria  northcentral   December   \n",
       "587          150       784  117600   47040      Togo  northcentral   December   \n",
       "611          450       807  363150  217890   Nigeria  northcentral   December   \n",
       "635          150       995  149250   69650     Ghana  northcentral   December   \n",
       "647          250       702  175500   56160      Togo  northcentral   December   \n",
       "683          200       864  172800   43200     Benin  northcentral   December   \n",
       "743          500       891  445500  222750     Benin  northcentral   December   \n",
       "803          150       864  129600   60480     Benin  northcentral   December   \n",
       "923          150       818  122700   49080     Benin  northcentral   December   \n",
       "947          450       859  386550  231930      Togo  northcentral   December   \n",
       "971          150       832  124800   58240   Nigeria  northcentral   December   \n",
       "995          500       995  497500  248750     Ghana  northcentral   December   \n",
       "1007         150       904  135600   54240      Togo  northcentral   December   \n",
       "1019         200       763  152600   38150   Senegal  northcentral   December   \n",
       "1031         450       721  324450  194670   Nigeria  northcentral   December   \n",
       "\n",
       "      YEARS  \n",
       "71     2018  \n",
       "95     2018  \n",
       "107    2018  \n",
       "179    2018  \n",
       "191    2018  \n",
       "203    2018  \n",
       "239    2018  \n",
       "287    2018  \n",
       "299    2018  \n",
       "335    2018  \n",
       "359    2018  \n",
       "407    2018  \n",
       "443    2018  \n",
       "467    2018  \n",
       "479    2018  \n",
       "491    2018  \n",
       "503    2018  \n",
       "551    2018  \n",
       "587    2018  \n",
       "611    2018  \n",
       "635    2018  \n",
       "647    2018  \n",
       "683    2018  \n",
       "743    2018  \n",
       "803    2018  \n",
       "923    2018  \n",
       "947    2018  \n",
       "971    2018  \n",
       "995    2018  \n",
       "1007   2018  \n",
       "1019   2018  \n",
       "1031   2018  "
      ]
     },
     "execution_count": 185,
     "metadata": {},
     "output_type": "execute_result"
    }
   ],
   "source": [
    "df_2018"
   ]
  },
  {
   "cell_type": "code",
   "execution_count": 186,
   "id": "62d3307f-8db5-4c9d-accf-1246d7a4d399",
   "metadata": {},
   "outputs": [
    {
     "data": {
      "text/plain": [
       "38150"
      ]
     },
     "execution_count": 186,
     "metadata": {},
     "output_type": "execute_result"
    }
   ],
   "source": [
    "df_2018s=df[(df.YEARS==2018) & (df.MONTHS=='December')].PROFIT.min()\n",
    "df_2018s"
   ]
  },
  {
   "cell_type": "code",
   "execution_count": 187,
   "id": "8e63999d-c82d-4701-8560-eca9b387f017",
   "metadata": {},
   "outputs": [
    {
     "data": {
      "text/plain": [
       "MONTHS\n",
       "April        2851470\n",
       "August       2982800\n",
       "December     2048780\n",
       "February     1366880\n",
       "January      3263160\n",
       "July         2945340\n",
       "June         2669080\n",
       "March        2530620\n",
       "May          2573040\n",
       "November     2675610\n",
       "October      2220870\n",
       "September    1892600\n",
       "Name: PROFIT, dtype: int64"
      ]
     },
     "execution_count": 187,
     "metadata": {},
     "output_type": "execute_result"
    }
   ],
   "source": [
    "df_2019 = df[(df.YEARS==2019)].groupby('MONTHS')['PROFIT'].sum()\n",
    "df_2019"
   ]
  },
  {
   "cell_type": "code",
   "execution_count": 188,
   "id": "3368c836-36c8-4572-89d3-a2e20237c52e",
   "metadata": {},
   "outputs": [
    {
     "data": {
      "text/plain": [
       "<Axes: title={'center': 'MONTHS VS PROFIT'}, ylabel='PROFIT'>"
      ]
     },
     "execution_count": 188,
     "metadata": {},
     "output_type": "execute_result"
    },
    {
     "data": {
      "image/png": "[encoded data removed]",
      "text/plain": [
       "<Figure size 640x480 with 1 Axes>"
      ]
     },
     "metadata": {},
     "output_type": "display_data"
    }
   ],
   "source": [
    "df_2019.plot(kind='pie',x='MONTHS',y='PROFIT',autopct='%1.1f%%',title = 'MONTHS VS PROFIT', explode = (0,0,0,0,0,0,0,0,0,0,0,0))"
   ]
  },
  {
   "cell_type": "code",
   "execution_count": 201,
   "id": "9d1b08e8-2434-46b5-b8d3-8e3483f9e3fe",
   "metadata": {},
   "outputs": [
    {
     "data": {
      "text/plain": [
       "<Axes: title={'center': 'MONTHS vs PROFIT'}, ylabel='PROFIT'>"
      ]
     },
     "execution_count": 201,
     "metadata": {},
     "output_type": "execute_result"
    },
    {
     "data": {
      "image/png": "[encoded data removed]",
      "text/plain": [
       "<Figure size 640x480 with 1 Axes>"
      ]
     },
     "metadata": {},
     "output_type": "display_data"
    }
   ],
   "source": [
    "df_2019.plot(kind='pie',x = 'MONTHS',y = 'PROFIT', autopct='%1.1f%%', title= 'MONTHS vs PROFIT',explode = (0.2,0,0,0,0,0,0,0,0,0,0,0),startangle=0)"
   ]
  },
  {
   "cell_type": "code",
   "execution_count": 140,
   "id": "1b9f47a4-02b2-49dd-8880-25292a1bfd7b",
   "metadata": {},
   "outputs": [
    {
     "data": {
      "text/html": [
       "<div>\n",
       "<style scoped>\n",
       "    .dataframe tbody tr th:only-of-type {\n",
       "        vertical-align: middle;\n",
       "    }\n",
       "\n",
       "    .dataframe tbody tr th {\n",
       "        vertical-align: top;\n",
       "    }\n",
       "\n",
       "    .dataframe thead th {\n",
       "        text-align: right;\n",
       "    }\n",
       "</style>\n",
       "<table border=\"1\" class=\"dataframe\">\n",
       "  <thead>\n",
       "    <tr style=\"text-align: right;\">\n",
       "      <th></th>\n",
       "      <th>PROFIT</th>\n",
       "    </tr>\n",
       "    <tr>\n",
       "      <th>BRANDS</th>\n",
       "      <th></th>\n",
       "    </tr>\n",
       "  </thead>\n",
       "  <tbody>\n",
       "    <tr>\n",
       "      <th>castle lite</th>\n",
       "      <td>7012980</td>\n",
       "    </tr>\n",
       "    <tr>\n",
       "      <th>budweiser</th>\n",
       "      <td>6480750</td>\n",
       "    </tr>\n",
       "    <tr>\n",
       "      <th>eagle lager</th>\n",
       "      <td>2061680</td>\n",
       "    </tr>\n",
       "    <tr>\n",
       "      <th>beta malt</th>\n",
       "      <td>1793750</td>\n",
       "    </tr>\n",
       "    <tr>\n",
       "      <th>grand malt</th>\n",
       "      <td>1525680</td>\n",
       "    </tr>\n",
       "    <tr>\n",
       "      <th>hero</th>\n",
       "      <td>1331600</td>\n",
       "    </tr>\n",
       "    <tr>\n",
       "      <th>trophy</th>\n",
       "      <td>1278750</td>\n",
       "    </tr>\n",
       "  </tbody>\n",
       "</table>\n",
       "</div>"
      ],
      "text/plain": [
       "              PROFIT\n",
       "BRANDS              \n",
       "castle lite  7012980\n",
       "budweiser    6480750\n",
       "eagle lager  2061680\n",
       "beta malt    1793750\n",
       "grand malt   1525680\n",
       "hero         1331600\n",
       "trophy       1278750"
      ]
     },
     "execution_count": 140,
     "metadata": {},
     "output_type": "execute_result"
    }
   ],
   "source": [
    "df_Senegal=df[df['COUNTRIES'].isin(['Senegal'])]\n",
    "df_Senegal_Brand = df_Senegal.groupby('BRANDS')['PROFIT'].sum()\n",
    "df_Senegal_Brand = pd.DataFrame(df_Senegal_Brand)\n",
    "Brand_Senegal=df_Senegal_Brand.sort_values('PROFIT',ascending=False) \n",
    "Brand_Senegal"
   ]
  },
  {
   "cell_type": "code",
   "execution_count": 202,
   "id": "41edd10f-a367-42fd-bc47-5123cabe462f",
   "metadata": {},
   "outputs": [
    {
     "data": {
      "text/plain": [
       "BRANDS\n",
       "hero           77595\n",
       "trophy         76792\n",
       "castle lite    76687\n",
       "eagle lager    76102\n",
       "grand malt     76008\n",
       "budweiser      75702\n",
       "beta malt      74274\n",
       "Name: QUANTITY, dtype: int64"
      ]
     },
     "execution_count": 202,
     "metadata": {},
     "output_type": "execute_result"
    }
   ],
   "source": [
    "df_Francophone_Countries=df[(df.COUNTRIES=='Senegal')|(df.COUNTRIES=='Benin')|(df.COUNTRIES=='Togo')].groupby('BRANDS')['QUANTITY'].sum().sort_values(ascending=False)\n",
    "df_Francophone_Countries"
   ]
  },
  {
   "cell_type": "code",
   "execution_count": 102,
   "id": "1cb2d029-c118-4dc8-92f5-ebfd3576227f",
   "metadata": {},
   "outputs": [
    {
     "data": {
      "text/html": [
       "<div>\n",
       "<style scoped>\n",
       "    .dataframe tbody tr th:only-of-type {\n",
       "        vertical-align: middle;\n",
       "    }\n",
       "\n",
       "    .dataframe tbody tr th {\n",
       "        vertical-align: top;\n",
       "    }\n",
       "\n",
       "    .dataframe thead th {\n",
       "        text-align: right;\n",
       "    }\n",
       "</style>\n",
       "<table border=\"1\" class=\"dataframe\">\n",
       "  <thead>\n",
       "    <tr style=\"text-align: right;\">\n",
       "      <th></th>\n",
       "      <th>QUANTITY</th>\n",
       "    </tr>\n",
       "    <tr>\n",
       "      <th>BRANDS</th>\n",
       "      <th></th>\n",
       "    </tr>\n",
       "  </thead>\n",
       "  <tbody>\n",
       "    <tr>\n",
       "      <th>hero</th>\n",
       "      <td>77595</td>\n",
       "    </tr>\n",
       "    <tr>\n",
       "      <th>trophy</th>\n",
       "      <td>76792</td>\n",
       "    </tr>\n",
       "    <tr>\n",
       "      <th>castle lite</th>\n",
       "      <td>76687</td>\n",
       "    </tr>\n",
       "    <tr>\n",
       "      <th>eagle lager</th>\n",
       "      <td>76102</td>\n",
       "    </tr>\n",
       "    <tr>\n",
       "      <th>grand malt</th>\n",
       "      <td>76008</td>\n",
       "    </tr>\n",
       "    <tr>\n",
       "      <th>budweiser</th>\n",
       "      <td>75702</td>\n",
       "    </tr>\n",
       "    <tr>\n",
       "      <th>beta malt</th>\n",
       "      <td>74274</td>\n",
       "    </tr>\n",
       "  </tbody>\n",
       "</table>\n",
       "</div>"
      ],
      "text/plain": [
       "             QUANTITY\n",
       "BRANDS               \n",
       "hero            77595\n",
       "trophy          76792\n",
       "castle lite     76687\n",
       "eagle lager     76102\n",
       "grand malt      76008\n",
       "budweiser       75702\n",
       "beta malt       74274"
      ]
     },
     "execution_count": 102,
     "metadata": {},
     "output_type": "execute_result"
    }
   ],
   "source": [
    "df_Francophone_Countries=df[df['COUNTRIES'].isin(['Senegal','Togo','Benin'])]\n",
    "df_Francophone_Countries = df_Francophone_Countries.groupby('BRANDS')['QUANTITY'].sum()\n",
    "\n",
    "df_Francophone_Countries_Brand = pd.DataFrame(df_Francophone_Countries)\n",
    "Francophone_Countries_Brand=df_Francophone_Countries_Brand.sort_values('QUANTITY',ascending=False) \n",
    "Francophone_Countries_Brand"
   ]
  },
  {
   "cell_type": "code",
   "execution_count": null,
   "id": "4750cd5d-222c-4464-adda-90e2ee6c5051",
   "metadata": {},
   "outputs": [],
   "source": [
    "df_Francophone_Countries=df[(df.COUNTRIES==['Senegal'])]\n",
    "df_Francophone_Countries"
   ]
  },
  {
   "cell_type": "code",
   "execution_count": null,
   "id": "c37407ae-c1e3-4828-9667-a1333fd7dcf4",
   "metadata": {},
   "outputs": [],
   "source": [
    "import numpy as np\n",
    "import pandas as pd\n",
    "import matplotlib.pyplot as plt\n",
    "%matplotlib inline\n",
    "import seaborn as sns\n",
    "import datetime as dt\n",
    "df = pd.read."
   ]
  }
 ],
 "metadata": {
  "kernelspec": {
   "display_name": "Python 3 (ipykernel)",
   "language": "python",
   "name": "python3"
  },
  "language_info": {
   "codemirror_mode": {
    "name": "ipython",
    "version": 3
   },
   "file_extension": ".py",
   "mimetype": "text/x-python",
   "name": "python",
   "nbconvert_exporter": "python",
   "pygments_lexer": "ipython3",
   "version": "3.11.7"
  }
 },
 "nbformat": 4,
 "nbformat_minor": 5
}
